{
  "nbformat": 4,
  "nbformat_minor": 0,
  "metadata": {
    "colab": {
      "provenance": [],
      "collapsed_sections": [
        "5JOyi7Te69Ep",
        "0IjtGBVC7P5S",
        "GcgCacvO7R4o",
        "iZCDv1i57TeA"
      ],
      "include_colab_link": true
    },
    "kernelspec": {
      "name": "python3",
      "display_name": "Python 3"
    },
    "language_info": {
      "name": "python"
    }
  },
  "cells": [
    {
      "cell_type": "markdown",
      "metadata": {
        "id": "view-in-github",
        "colab_type": "text"
      },
      "source": [
        "<a href=\"https://colab.research.google.com/github/ChristianRojasR/Python/blob/main/Pr%C3%A1ctica_05_Correlaci%C3%B3n_(En_clase).ipynb\" target=\"_parent\"><img src=\"https://colab.research.google.com/assets/colab-badge.svg\" alt=\"Open In Colab\"/></a>"
      ]
    },
    {
      "cell_type": "markdown",
      "source": [
        "# <img src=\"data:image/png;base64,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\" width=\"60\" height=\"60\"> **Práctica 5: Correlación** <img src=\"data:image/png;base64,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\"  width=\"60\" height=\"60\">\n"
      ],
      "metadata": {
        "id": "2qhuOloJ0EcP"
      }
    },
    {
      "cell_type": "markdown",
      "source": [
        "El dataset que vamos a usar se encuentra en el siguiente [link](https://docs.google.com/spreadsheets/d/1kR1KEsmQqeZbOjDOZ1n1S8yCKMTLWt4E/edit?usp=sharing&ouid=114053694358393757456&rtpof=true&sd=true).\n",
        "\n"
      ],
      "metadata": {
        "id": "--EOyg8R6Ahi"
      }
    },
    {
      "cell_type": "code",
      "source": [
        "#importar las librerias\n",
        "import pandas as pd\n",
        "import numpy as np\n",
        "import matplotlib.pyplot as plt"
      ],
      "metadata": {
        "id": "-jlRS8ob7lzj"
      },
      "execution_count": null,
      "outputs": []
    },
    {
      "cell_type": "code",
      "source": [
        "#importar libreria para ver el contenido de drive\n",
        "from google.colab import drive\n",
        "\n",
        "drive.mount('/content/drive')"
      ],
      "metadata": {
        "id": "nZdMzBJI7hvX",
        "colab": {
          "base_uri": "https://localhost:8080/"
        },
        "outputId": "8b32dc87-710a-42c9-f6b1-c662e2ba85f5"
      },
      "execution_count": null,
      "outputs": [
        {
          "output_type": "stream",
          "name": "stdout",
          "text": [
            "Mounted at /content/drive\n"
          ]
        }
      ]
    },
    {
      "cell_type": "code",
      "source": [
        "url = '/content/drive/MyDrive/ArchivosPrueba/Copia de Planilla pacientes-modificado.xlsx'"
      ],
      "metadata": {
        "id": "9hYNqiv9EH_E"
      },
      "execution_count": null,
      "outputs": []
    },
    {
      "cell_type": "code",
      "source": [
        "url_2 = '/content/drive/MyDrive/ArchivosPrueba/Copia de Planilla pacientes.xlsx'"
      ],
      "metadata": {
        "id": "57vImgUnElrQ"
      },
      "execution_count": null,
      "outputs": []
    },
    {
      "cell_type": "markdown",
      "metadata": {
        "id": "8-zMHWmFnjwa"
      },
      "source": [
        "##Ejercicio 1"
      ]
    },
    {
      "cell_type": "markdown",
      "source": [
        "Leer el archivo xlxs planilla pacientes-modificado para realizar un análisis exploratorio de sus atributos. Contiene datos de 100 pacientes donde se describen algunos valores (sexo, edad, colesterol total, ldl colesterol, hdl colesterol, ácido Úrico, triglicéridos, Glucosa, peso, altura, IMC,Estudio Doppler,presión sistólica, presión diatólica, Hipertensión Arterial).\n",
        "\n",
        "\n",
        "\n",
        "- Ver los tipos de datos con la función `info()`\n",
        "\n",
        "- Ver los datos estadísticos con la función `describe()` \n",
        "\n",
        "- Hacer un histograma con cada uno de los datos numéricos utilice tamaño de bin de acuerdo a los datos que contiene.\n",
        "\n",
        "- Verificar los valores faltantes.\n",
        "\n"
      ],
      "metadata": {
        "id": "SFlVO-m3gVyd"
      }
    },
    {
      "cell_type": "code",
      "execution_count": null,
      "metadata": {
        "id": "YV9_3rI_1VjW"
      },
      "outputs": [],
      "source": [
        "df_pacientes_modificado = pd.read_excel(url, sheet_name=0)"
      ]
    },
    {
      "cell_type": "code",
      "source": [
        "df_pacientes_modificado.info()"
      ],
      "metadata": {
        "id": "-SxAG76Q7ush",
        "colab": {
          "base_uri": "https://localhost:8080/"
        },
        "outputId": "840c6e4a-25cf-4b63-afd4-87e9a6c3e1e4"
      },
      "execution_count": null,
      "outputs": [
        {
          "output_type": "stream",
          "name": "stdout",
          "text": [
            "<class 'pandas.core.frame.DataFrame'>\n",
            "RangeIndex: 100 entries, 0 to 99\n",
            "Data columns (total 16 columns):\n",
            " #   Column   Non-Null Count  Dtype  \n",
            "---  ------   --------------  -----  \n",
            " 0   Nº       100 non-null    float64\n",
            " 1   Edad     100 non-null    float64\n",
            " 2   S.       100 non-null    object \n",
            " 3   Col.t    100 non-null    float64\n",
            " 4   LDL      100 non-null    float64\n",
            " 5   HDL      100 non-null    float64\n",
            " 6   A.U.     100 non-null    float64\n",
            " 7   Trigli   100 non-null    float64\n",
            " 8   Gl.      100 non-null    float64\n",
            " 9   Peso     100 non-null    float64\n",
            " 10  altura   100 non-null    float64\n",
            " 11  IMC      100 non-null    float64\n",
            " 12  Doppler  100 non-null    object \n",
            " 13  P.S      100 non-null    float64\n",
            " 14  P.D      100 non-null    float64\n",
            " 15  HTA      100 non-null    object \n",
            "dtypes: float64(13), object(3)\n",
            "memory usage: 12.6+ KB\n"
          ]
        }
      ]
    },
    {
      "cell_type": "code",
      "source": [
        "df_pacientes_modificado['altura'] = df_pacientes_modificado['altura'].astype(float)"
      ],
      "metadata": {
        "id": "dA6T-HYzWebc"
      },
      "execution_count": null,
      "outputs": []
    },
    {
      "cell_type": "code",
      "source": [
        "df_pacientes_modificado['Edad'] = df_pacientes_modificado['Edad'].astype(int)"
      ],
      "metadata": {
        "id": "vTORxE6IXf_m"
      },
      "execution_count": null,
      "outputs": []
    },
    {
      "cell_type": "code",
      "source": [
        "df_pacientes_modificado.info()"
      ],
      "metadata": {
        "colab": {
          "base_uri": "https://localhost:8080/"
        },
        "id": "m6Yp6pqSXUZ5",
        "outputId": "788e4164-2be3-439d-faf8-ee8c95ddf2e6"
      },
      "execution_count": null,
      "outputs": [
        {
          "output_type": "stream",
          "name": "stdout",
          "text": [
            "<class 'pandas.core.frame.DataFrame'>\n",
            "RangeIndex: 100 entries, 0 to 99\n",
            "Data columns (total 16 columns):\n",
            " #   Column   Non-Null Count  Dtype  \n",
            "---  ------   --------------  -----  \n",
            " 0   Nº       100 non-null    float64\n",
            " 1   Edad     100 non-null    int64  \n",
            " 2   S.       100 non-null    object \n",
            " 3   Col.t    100 non-null    float64\n",
            " 4   LDL      100 non-null    float64\n",
            " 5   HDL      100 non-null    float64\n",
            " 6   A.U.     100 non-null    float64\n",
            " 7   Trigli   100 non-null    float64\n",
            " 8   Gl.      100 non-null    float64\n",
            " 9   Peso     100 non-null    float64\n",
            " 10  altura   100 non-null    float64\n",
            " 11  IMC      100 non-null    float64\n",
            " 12  Doppler  100 non-null    object \n",
            " 13  P.S      100 non-null    float64\n",
            " 14  P.D      100 non-null    float64\n",
            " 15  HTA      100 non-null    object \n",
            "dtypes: float64(12), int64(1), object(3)\n",
            "memory usage: 12.6+ KB\n"
          ]
        }
      ]
    },
    {
      "cell_type": "code",
      "source": [
        "df_pacientes_modificado.describe() #numericas"
      ],
      "metadata": {
        "id": "CK0WoSWA_pR1",
        "colab": {
          "base_uri": "https://localhost:8080/",
          "height": 364
        },
        "outputId": "6bcc9a29-ae45-4dbb-d7f1-805faa06011e"
      },
      "execution_count": null,
      "outputs": [
        {
          "output_type": "execute_result",
          "data": {
            "text/plain": [
              "               Nº        Edad       Col.t         LDL         HDL        A.U.  \\\n",
              "count  100.000000  100.000000  100.000000  100.000000  100.000000  100.000000   \n",
              "mean    50.500000   51.380000  238.820000  162.480000   43.030000    4.835000   \n",
              "std     29.011492    8.350624   42.421497   39.390682    6.102583    1.578541   \n",
              "min      1.000000   35.000000  178.000000   11.000000   31.000000    2.200000   \n",
              "25%     25.750000   45.750000  192.000000  136.000000   38.750000    3.700000   \n",
              "50%     50.500000   51.000000  234.000000  158.500000   42.000000    4.200000   \n",
              "75%     75.250000   56.000000  284.000000  198.500000   48.000000    6.225000   \n",
              "max    100.000000   71.000000  320.000000  223.000000   58.000000    8.200000   \n",
              "\n",
              "           Trigli         Gl.        Peso         IMC         P.S         P.D  \n",
              "count  100.000000  100.000000  100.000000  100.000000  100.000000  100.000000  \n",
              "mean   177.610000  100.030000   71.350000   25.900000  126.150000   73.050000  \n",
              "std     43.370356   21.377065   10.884495    2.634273   10.632877    6.470407  \n",
              "min    122.000000   72.000000   54.000000   21.000000  110.000000   70.000000  \n",
              "25%    145.000000   88.000000   61.750000   23.000000  120.000000   70.000000  \n",
              "50%    158.000000   97.000000   70.000000   26.000000  120.000000   70.000000  \n",
              "75%    209.000000  109.250000   80.000000   28.000000  130.000000   71.250000  \n",
              "max    324.000000  248.000000   99.000000   34.000000  190.000000  110.000000  "
            ],
            "text/html": [
              "\n",
              "  <div id=\"df-7b29b8b5-ba7e-462c-b8db-dc2fa4ec1fdb\">\n",
              "    <div class=\"colab-df-container\">\n",
              "      <div>\n",
              "<style scoped>\n",
              "    .dataframe tbody tr th:only-of-type {\n",
              "        vertical-align: middle;\n",
              "    }\n",
              "\n",
              "    .dataframe tbody tr th {\n",
              "        vertical-align: top;\n",
              "    }\n",
              "\n",
              "    .dataframe thead th {\n",
              "        text-align: right;\n",
              "    }\n",
              "</style>\n",
              "<table border=\"1\" class=\"dataframe\">\n",
              "  <thead>\n",
              "    <tr style=\"text-align: right;\">\n",
              "      <th></th>\n",
              "      <th>Nº</th>\n",
              "      <th>Edad</th>\n",
              "      <th>Col.t</th>\n",
              "      <th>LDL</th>\n",
              "      <th>HDL</th>\n",
              "      <th>A.U.</th>\n",
              "      <th>Trigli</th>\n",
              "      <th>Gl.</th>\n",
              "      <th>Peso</th>\n",
              "      <th>IMC</th>\n",
              "      <th>P.S</th>\n",
              "      <th>P.D</th>\n",
              "    </tr>\n",
              "  </thead>\n",
              "  <tbody>\n",
              "    <tr>\n",
              "      <th>count</th>\n",
              "      <td>100.000000</td>\n",
              "      <td>100.000000</td>\n",
              "      <td>100.000000</td>\n",
              "      <td>100.000000</td>\n",
              "      <td>100.000000</td>\n",
              "      <td>100.000000</td>\n",
              "      <td>100.000000</td>\n",
              "      <td>100.000000</td>\n",
              "      <td>100.000000</td>\n",
              "      <td>100.000000</td>\n",
              "      <td>100.000000</td>\n",
              "      <td>100.000000</td>\n",
              "    </tr>\n",
              "    <tr>\n",
              "      <th>mean</th>\n",
              "      <td>50.500000</td>\n",
              "      <td>51.380000</td>\n",
              "      <td>238.820000</td>\n",
              "      <td>162.480000</td>\n",
              "      <td>43.030000</td>\n",
              "      <td>4.835000</td>\n",
              "      <td>177.610000</td>\n",
              "      <td>100.030000</td>\n",
              "      <td>71.350000</td>\n",
              "      <td>25.900000</td>\n",
              "      <td>126.150000</td>\n",
              "      <td>73.050000</td>\n",
              "    </tr>\n",
              "    <tr>\n",
              "      <th>std</th>\n",
              "      <td>29.011492</td>\n",
              "      <td>8.350624</td>\n",
              "      <td>42.421497</td>\n",
              "      <td>39.390682</td>\n",
              "      <td>6.102583</td>\n",
              "      <td>1.578541</td>\n",
              "      <td>43.370356</td>\n",
              "      <td>21.377065</td>\n",
              "      <td>10.884495</td>\n",
              "      <td>2.634273</td>\n",
              "      <td>10.632877</td>\n",
              "      <td>6.470407</td>\n",
              "    </tr>\n",
              "    <tr>\n",
              "      <th>min</th>\n",
              "      <td>1.000000</td>\n",
              "      <td>35.000000</td>\n",
              "      <td>178.000000</td>\n",
              "      <td>11.000000</td>\n",
              "      <td>31.000000</td>\n",
              "      <td>2.200000</td>\n",
              "      <td>122.000000</td>\n",
              "      <td>72.000000</td>\n",
              "      <td>54.000000</td>\n",
              "      <td>21.000000</td>\n",
              "      <td>110.000000</td>\n",
              "      <td>70.000000</td>\n",
              "    </tr>\n",
              "    <tr>\n",
              "      <th>25%</th>\n",
              "      <td>25.750000</td>\n",
              "      <td>45.750000</td>\n",
              "      <td>192.000000</td>\n",
              "      <td>136.000000</td>\n",
              "      <td>38.750000</td>\n",
              "      <td>3.700000</td>\n",
              "      <td>145.000000</td>\n",
              "      <td>88.000000</td>\n",
              "      <td>61.750000</td>\n",
              "      <td>23.000000</td>\n",
              "      <td>120.000000</td>\n",
              "      <td>70.000000</td>\n",
              "    </tr>\n",
              "    <tr>\n",
              "      <th>50%</th>\n",
              "      <td>50.500000</td>\n",
              "      <td>51.000000</td>\n",
              "      <td>234.000000</td>\n",
              "      <td>158.500000</td>\n",
              "      <td>42.000000</td>\n",
              "      <td>4.200000</td>\n",
              "      <td>158.000000</td>\n",
              "      <td>97.000000</td>\n",
              "      <td>70.000000</td>\n",
              "      <td>26.000000</td>\n",
              "      <td>120.000000</td>\n",
              "      <td>70.000000</td>\n",
              "    </tr>\n",
              "    <tr>\n",
              "      <th>75%</th>\n",
              "      <td>75.250000</td>\n",
              "      <td>56.000000</td>\n",
              "      <td>284.000000</td>\n",
              "      <td>198.500000</td>\n",
              "      <td>48.000000</td>\n",
              "      <td>6.225000</td>\n",
              "      <td>209.000000</td>\n",
              "      <td>109.250000</td>\n",
              "      <td>80.000000</td>\n",
              "      <td>28.000000</td>\n",
              "      <td>130.000000</td>\n",
              "      <td>71.250000</td>\n",
              "    </tr>\n",
              "    <tr>\n",
              "      <th>max</th>\n",
              "      <td>100.000000</td>\n",
              "      <td>71.000000</td>\n",
              "      <td>320.000000</td>\n",
              "      <td>223.000000</td>\n",
              "      <td>58.000000</td>\n",
              "      <td>8.200000</td>\n",
              "      <td>324.000000</td>\n",
              "      <td>248.000000</td>\n",
              "      <td>99.000000</td>\n",
              "      <td>34.000000</td>\n",
              "      <td>190.000000</td>\n",
              "      <td>110.000000</td>\n",
              "    </tr>\n",
              "  </tbody>\n",
              "</table>\n",
              "</div>\n",
              "      <button class=\"colab-df-convert\" onclick=\"convertToInteractive('df-7b29b8b5-ba7e-462c-b8db-dc2fa4ec1fdb')\"\n",
              "              title=\"Convert this dataframe to an interactive table.\"\n",
              "              style=\"display:none;\">\n",
              "        \n",
              "  <svg xmlns=\"http://www.w3.org/2000/svg\" height=\"24px\"viewBox=\"0 0 24 24\"\n",
              "       width=\"24px\">\n",
              "    <path d=\"M0 0h24v24H0V0z\" fill=\"none\"/>\n",
              "    <path d=\"M18.56 5.44l.94 2.06.94-2.06 2.06-.94-2.06-.94-.94-2.06-.94 2.06-2.06.94zm-11 1L8.5 8.5l.94-2.06 2.06-.94-2.06-.94L8.5 2.5l-.94 2.06-2.06.94zm10 10l.94 2.06.94-2.06 2.06-.94-2.06-.94-.94-2.06-.94 2.06-2.06.94z\"/><path d=\"M17.41 7.96l-1.37-1.37c-.4-.4-.92-.59-1.43-.59-.52 0-1.04.2-1.43.59L10.3 9.45l-7.72 7.72c-.78.78-.78 2.05 0 2.83L4 21.41c.39.39.9.59 1.41.59.51 0 1.02-.2 1.41-.59l7.78-7.78 2.81-2.81c.8-.78.8-2.07 0-2.86zM5.41 20L4 18.59l7.72-7.72 1.47 1.35L5.41 20z\"/>\n",
              "  </svg>\n",
              "      </button>\n",
              "      \n",
              "  <style>\n",
              "    .colab-df-container {\n",
              "      display:flex;\n",
              "      flex-wrap:wrap;\n",
              "      gap: 12px;\n",
              "    }\n",
              "\n",
              "    .colab-df-convert {\n",
              "      background-color: #E8F0FE;\n",
              "      border: none;\n",
              "      border-radius: 50%;\n",
              "      cursor: pointer;\n",
              "      display: none;\n",
              "      fill: #1967D2;\n",
              "      height: 32px;\n",
              "      padding: 0 0 0 0;\n",
              "      width: 32px;\n",
              "    }\n",
              "\n",
              "    .colab-df-convert:hover {\n",
              "      background-color: #E2EBFA;\n",
              "      box-shadow: 0px 1px 2px rgba(60, 64, 67, 0.3), 0px 1px 3px 1px rgba(60, 64, 67, 0.15);\n",
              "      fill: #174EA6;\n",
              "    }\n",
              "\n",
              "    [theme=dark] .colab-df-convert {\n",
              "      background-color: #3B4455;\n",
              "      fill: #D2E3FC;\n",
              "    }\n",
              "\n",
              "    [theme=dark] .colab-df-convert:hover {\n",
              "      background-color: #434B5C;\n",
              "      box-shadow: 0px 1px 3px 1px rgba(0, 0, 0, 0.15);\n",
              "      filter: drop-shadow(0px 1px 2px rgba(0, 0, 0, 0.3));\n",
              "      fill: #FFFFFF;\n",
              "    }\n",
              "  </style>\n",
              "\n",
              "      <script>\n",
              "        const buttonEl =\n",
              "          document.querySelector('#df-7b29b8b5-ba7e-462c-b8db-dc2fa4ec1fdb button.colab-df-convert');\n",
              "        buttonEl.style.display =\n",
              "          google.colab.kernel.accessAllowed ? 'block' : 'none';\n",
              "\n",
              "        async function convertToInteractive(key) {\n",
              "          const element = document.querySelector('#df-7b29b8b5-ba7e-462c-b8db-dc2fa4ec1fdb');\n",
              "          const dataTable =\n",
              "            await google.colab.kernel.invokeFunction('convertToInteractive',\n",
              "                                                     [key], {});\n",
              "          if (!dataTable) return;\n",
              "\n",
              "          const docLinkHtml = 'Like what you see? Visit the ' +\n",
              "            '<a target=\"_blank\" href=https://colab.research.google.com/notebooks/data_table.ipynb>data table notebook</a>'\n",
              "            + ' to learn more about interactive tables.';\n",
              "          element.innerHTML = '';\n",
              "          dataTable['output_type'] = 'display_data';\n",
              "          await google.colab.output.renderOutput(dataTable, element);\n",
              "          const docLink = document.createElement('div');\n",
              "          docLink.innerHTML = docLinkHtml;\n",
              "          element.appendChild(docLink);\n",
              "        }\n",
              "      </script>\n",
              "    </div>\n",
              "  </div>\n",
              "  "
            ]
          },
          "metadata": {},
          "execution_count": 9
        }
      ]
    },
    {
      "cell_type": "code",
      "source": [
        "df_pacientes_modificado.describe(exclude = np.number)  #par"
      ],
      "metadata": {
        "colab": {
          "base_uri": "https://localhost:8080/",
          "height": 175
        },
        "id": "q-_b0oYMUqCU",
        "outputId": "4bbb5852-295f-4a69-f86f-95d5e8e9ea9e"
      },
      "execution_count": null,
      "outputs": [
        {
          "output_type": "execute_result",
          "data": {
            "text/plain": [
              "         S.  altura Doppler  HTA\n",
              "count   100  100.00     100  100\n",
              "unique    2   23.00       3    2\n",
              "top       f    1.56   placa   si\n",
              "freq     59   12.00      57   56"
            ],
            "text/html": [
              "\n",
              "  <div id=\"df-e482fdae-3f31-49b7-b06d-1a4de391dc31\">\n",
              "    <div class=\"colab-df-container\">\n",
              "      <div>\n",
              "<style scoped>\n",
              "    .dataframe tbody tr th:only-of-type {\n",
              "        vertical-align: middle;\n",
              "    }\n",
              "\n",
              "    .dataframe tbody tr th {\n",
              "        vertical-align: top;\n",
              "    }\n",
              "\n",
              "    .dataframe thead th {\n",
              "        text-align: right;\n",
              "    }\n",
              "</style>\n",
              "<table border=\"1\" class=\"dataframe\">\n",
              "  <thead>\n",
              "    <tr style=\"text-align: right;\">\n",
              "      <th></th>\n",
              "      <th>S.</th>\n",
              "      <th>altura</th>\n",
              "      <th>Doppler</th>\n",
              "      <th>HTA</th>\n",
              "    </tr>\n",
              "  </thead>\n",
              "  <tbody>\n",
              "    <tr>\n",
              "      <th>count</th>\n",
              "      <td>100</td>\n",
              "      <td>100.00</td>\n",
              "      <td>100</td>\n",
              "      <td>100</td>\n",
              "    </tr>\n",
              "    <tr>\n",
              "      <th>unique</th>\n",
              "      <td>2</td>\n",
              "      <td>23.00</td>\n",
              "      <td>3</td>\n",
              "      <td>2</td>\n",
              "    </tr>\n",
              "    <tr>\n",
              "      <th>top</th>\n",
              "      <td>f</td>\n",
              "      <td>1.56</td>\n",
              "      <td>placa</td>\n",
              "      <td>si</td>\n",
              "    </tr>\n",
              "    <tr>\n",
              "      <th>freq</th>\n",
              "      <td>59</td>\n",
              "      <td>12.00</td>\n",
              "      <td>57</td>\n",
              "      <td>56</td>\n",
              "    </tr>\n",
              "  </tbody>\n",
              "</table>\n",
              "</div>\n",
              "      <button class=\"colab-df-convert\" onclick=\"convertToInteractive('df-e482fdae-3f31-49b7-b06d-1a4de391dc31')\"\n",
              "              title=\"Convert this dataframe to an interactive table.\"\n",
              "              style=\"display:none;\">\n",
              "        \n",
              "  <svg xmlns=\"http://www.w3.org/2000/svg\" height=\"24px\"viewBox=\"0 0 24 24\"\n",
              "       width=\"24px\">\n",
              "    <path d=\"M0 0h24v24H0V0z\" fill=\"none\"/>\n",
              "    <path d=\"M18.56 5.44l.94 2.06.94-2.06 2.06-.94-2.06-.94-.94-2.06-.94 2.06-2.06.94zm-11 1L8.5 8.5l.94-2.06 2.06-.94-2.06-.94L8.5 2.5l-.94 2.06-2.06.94zm10 10l.94 2.06.94-2.06 2.06-.94-2.06-.94-.94-2.06-.94 2.06-2.06.94z\"/><path d=\"M17.41 7.96l-1.37-1.37c-.4-.4-.92-.59-1.43-.59-.52 0-1.04.2-1.43.59L10.3 9.45l-7.72 7.72c-.78.78-.78 2.05 0 2.83L4 21.41c.39.39.9.59 1.41.59.51 0 1.02-.2 1.41-.59l7.78-7.78 2.81-2.81c.8-.78.8-2.07 0-2.86zM5.41 20L4 18.59l7.72-7.72 1.47 1.35L5.41 20z\"/>\n",
              "  </svg>\n",
              "      </button>\n",
              "      \n",
              "  <style>\n",
              "    .colab-df-container {\n",
              "      display:flex;\n",
              "      flex-wrap:wrap;\n",
              "      gap: 12px;\n",
              "    }\n",
              "\n",
              "    .colab-df-convert {\n",
              "      background-color: #E8F0FE;\n",
              "      border: none;\n",
              "      border-radius: 50%;\n",
              "      cursor: pointer;\n",
              "      display: none;\n",
              "      fill: #1967D2;\n",
              "      height: 32px;\n",
              "      padding: 0 0 0 0;\n",
              "      width: 32px;\n",
              "    }\n",
              "\n",
              "    .colab-df-convert:hover {\n",
              "      background-color: #E2EBFA;\n",
              "      box-shadow: 0px 1px 2px rgba(60, 64, 67, 0.3), 0px 1px 3px 1px rgba(60, 64, 67, 0.15);\n",
              "      fill: #174EA6;\n",
              "    }\n",
              "\n",
              "    [theme=dark] .colab-df-convert {\n",
              "      background-color: #3B4455;\n",
              "      fill: #D2E3FC;\n",
              "    }\n",
              "\n",
              "    [theme=dark] .colab-df-convert:hover {\n",
              "      background-color: #434B5C;\n",
              "      box-shadow: 0px 1px 3px 1px rgba(0, 0, 0, 0.15);\n",
              "      filter: drop-shadow(0px 1px 2px rgba(0, 0, 0, 0.3));\n",
              "      fill: #FFFFFF;\n",
              "    }\n",
              "  </style>\n",
              "\n",
              "      <script>\n",
              "        const buttonEl =\n",
              "          document.querySelector('#df-e482fdae-3f31-49b7-b06d-1a4de391dc31 button.colab-df-convert');\n",
              "        buttonEl.style.display =\n",
              "          google.colab.kernel.accessAllowed ? 'block' : 'none';\n",
              "\n",
              "        async function convertToInteractive(key) {\n",
              "          const element = document.querySelector('#df-e482fdae-3f31-49b7-b06d-1a4de391dc31');\n",
              "          const dataTable =\n",
              "            await google.colab.kernel.invokeFunction('convertToInteractive',\n",
              "                                                     [key], {});\n",
              "          if (!dataTable) return;\n",
              "\n",
              "          const docLinkHtml = 'Like what you see? Visit the ' +\n",
              "            '<a target=\"_blank\" href=https://colab.research.google.com/notebooks/data_table.ipynb>data table notebook</a>'\n",
              "            + ' to learn more about interactive tables.';\n",
              "          element.innerHTML = '';\n",
              "          dataTable['output_type'] = 'display_data';\n",
              "          await google.colab.output.renderOutput(dataTable, element);\n",
              "          const docLink = document.createElement('div');\n",
              "          docLink.innerHTML = docLinkHtml;\n",
              "          element.appendChild(docLink);\n",
              "        }\n",
              "      </script>\n",
              "    </div>\n",
              "  </div>\n",
              "  "
            ]
          },
          "metadata": {},
          "execution_count": 48
        }
      ]
    },
    {
      "cell_type": "code",
      "source": [
        "df_pacientes_modificado.head()"
      ],
      "metadata": {
        "colab": {
          "base_uri": "https://localhost:8080/",
          "height": 206
        },
        "id": "KMH_vtt8Pj8B",
        "outputId": "f74d1de9-86b3-4fde-c74b-d23187fe0b5f"
      },
      "execution_count": null,
      "outputs": [
        {
          "output_type": "execute_result",
          "data": {
            "text/plain": [
              "    Nº  Edad S.  Col.t    LDL   HDL  A.U.  Trigli    Gl.  Peso altura   IMC  \\\n",
              "0  1.0  52.0  f  294.0  221.0  43.0   3.1   149.0   98.0  74.0    1.6  29.0   \n",
              "1  2.0  50.0  f  272.0  178.0  47.0   7.2   207.0  118.0  55.0   1.56  23.0   \n",
              "2  3.0  50.0  f  270.0  198.0  41.0   2.8   162.0   92.0  68.0   1.57  28.0   \n",
              "3  4.0  38.0  m  189.0   11.0  50.0   8.2   142.0  112.0  84.0   1.72  28.0   \n",
              "4  5.0  48.0  f  288.0  221.0  35.0   4.2   151.0   96.0  56.0  155.0  23.0   \n",
              "\n",
              "  Doppler    P.S   P.D HTA  \n",
              "0     emi  130.0  70.0  si  \n",
              "1   placa  130.0  80.0  si  \n",
              "2  normal  120.0  80.0  no  \n",
              "3   placa  120.0  70.0  no  \n",
              "4  normal  120.0  70.0  si  "
            ],
            "text/html": [
              "\n",
              "  <div id=\"df-c2aed2a8-e2e5-409b-9011-b45ffa84fc1e\">\n",
              "    <div class=\"colab-df-container\">\n",
              "      <div>\n",
              "<style scoped>\n",
              "    .dataframe tbody tr th:only-of-type {\n",
              "        vertical-align: middle;\n",
              "    }\n",
              "\n",
              "    .dataframe tbody tr th {\n",
              "        vertical-align: top;\n",
              "    }\n",
              "\n",
              "    .dataframe thead th {\n",
              "        text-align: right;\n",
              "    }\n",
              "</style>\n",
              "<table border=\"1\" class=\"dataframe\">\n",
              "  <thead>\n",
              "    <tr style=\"text-align: right;\">\n",
              "      <th></th>\n",
              "      <th>Nº</th>\n",
              "      <th>Edad</th>\n",
              "      <th>S.</th>\n",
              "      <th>Col.t</th>\n",
              "      <th>LDL</th>\n",
              "      <th>HDL</th>\n",
              "      <th>A.U.</th>\n",
              "      <th>Trigli</th>\n",
              "      <th>Gl.</th>\n",
              "      <th>Peso</th>\n",
              "      <th>altura</th>\n",
              "      <th>IMC</th>\n",
              "      <th>Doppler</th>\n",
              "      <th>P.S</th>\n",
              "      <th>P.D</th>\n",
              "      <th>HTA</th>\n",
              "    </tr>\n",
              "  </thead>\n",
              "  <tbody>\n",
              "    <tr>\n",
              "      <th>0</th>\n",
              "      <td>1.0</td>\n",
              "      <td>52.0</td>\n",
              "      <td>f</td>\n",
              "      <td>294.0</td>\n",
              "      <td>221.0</td>\n",
              "      <td>43.0</td>\n",
              "      <td>3.1</td>\n",
              "      <td>149.0</td>\n",
              "      <td>98.0</td>\n",
              "      <td>74.0</td>\n",
              "      <td>1.6</td>\n",
              "      <td>29.0</td>\n",
              "      <td>emi</td>\n",
              "      <td>130.0</td>\n",
              "      <td>70.0</td>\n",
              "      <td>si</td>\n",
              "    </tr>\n",
              "    <tr>\n",
              "      <th>1</th>\n",
              "      <td>2.0</td>\n",
              "      <td>50.0</td>\n",
              "      <td>f</td>\n",
              "      <td>272.0</td>\n",
              "      <td>178.0</td>\n",
              "      <td>47.0</td>\n",
              "      <td>7.2</td>\n",
              "      <td>207.0</td>\n",
              "      <td>118.0</td>\n",
              "      <td>55.0</td>\n",
              "      <td>1.56</td>\n",
              "      <td>23.0</td>\n",
              "      <td>placa</td>\n",
              "      <td>130.0</td>\n",
              "      <td>80.0</td>\n",
              "      <td>si</td>\n",
              "    </tr>\n",
              "    <tr>\n",
              "      <th>2</th>\n",
              "      <td>3.0</td>\n",
              "      <td>50.0</td>\n",
              "      <td>f</td>\n",
              "      <td>270.0</td>\n",
              "      <td>198.0</td>\n",
              "      <td>41.0</td>\n",
              "      <td>2.8</td>\n",
              "      <td>162.0</td>\n",
              "      <td>92.0</td>\n",
              "      <td>68.0</td>\n",
              "      <td>1.57</td>\n",
              "      <td>28.0</td>\n",
              "      <td>normal</td>\n",
              "      <td>120.0</td>\n",
              "      <td>80.0</td>\n",
              "      <td>no</td>\n",
              "    </tr>\n",
              "    <tr>\n",
              "      <th>3</th>\n",
              "      <td>4.0</td>\n",
              "      <td>38.0</td>\n",
              "      <td>m</td>\n",
              "      <td>189.0</td>\n",
              "      <td>11.0</td>\n",
              "      <td>50.0</td>\n",
              "      <td>8.2</td>\n",
              "      <td>142.0</td>\n",
              "      <td>112.0</td>\n",
              "      <td>84.0</td>\n",
              "      <td>1.72</td>\n",
              "      <td>28.0</td>\n",
              "      <td>placa</td>\n",
              "      <td>120.0</td>\n",
              "      <td>70.0</td>\n",
              "      <td>no</td>\n",
              "    </tr>\n",
              "    <tr>\n",
              "      <th>4</th>\n",
              "      <td>5.0</td>\n",
              "      <td>48.0</td>\n",
              "      <td>f</td>\n",
              "      <td>288.0</td>\n",
              "      <td>221.0</td>\n",
              "      <td>35.0</td>\n",
              "      <td>4.2</td>\n",
              "      <td>151.0</td>\n",
              "      <td>96.0</td>\n",
              "      <td>56.0</td>\n",
              "      <td>155.0</td>\n",
              "      <td>23.0</td>\n",
              "      <td>normal</td>\n",
              "      <td>120.0</td>\n",
              "      <td>70.0</td>\n",
              "      <td>si</td>\n",
              "    </tr>\n",
              "  </tbody>\n",
              "</table>\n",
              "</div>\n",
              "      <button class=\"colab-df-convert\" onclick=\"convertToInteractive('df-c2aed2a8-e2e5-409b-9011-b45ffa84fc1e')\"\n",
              "              title=\"Convert this dataframe to an interactive table.\"\n",
              "              style=\"display:none;\">\n",
              "        \n",
              "  <svg xmlns=\"http://www.w3.org/2000/svg\" height=\"24px\"viewBox=\"0 0 24 24\"\n",
              "       width=\"24px\">\n",
              "    <path d=\"M0 0h24v24H0V0z\" fill=\"none\"/>\n",
              "    <path d=\"M18.56 5.44l.94 2.06.94-2.06 2.06-.94-2.06-.94-.94-2.06-.94 2.06-2.06.94zm-11 1L8.5 8.5l.94-2.06 2.06-.94-2.06-.94L8.5 2.5l-.94 2.06-2.06.94zm10 10l.94 2.06.94-2.06 2.06-.94-2.06-.94-.94-2.06-.94 2.06-2.06.94z\"/><path d=\"M17.41 7.96l-1.37-1.37c-.4-.4-.92-.59-1.43-.59-.52 0-1.04.2-1.43.59L10.3 9.45l-7.72 7.72c-.78.78-.78 2.05 0 2.83L4 21.41c.39.39.9.59 1.41.59.51 0 1.02-.2 1.41-.59l7.78-7.78 2.81-2.81c.8-.78.8-2.07 0-2.86zM5.41 20L4 18.59l7.72-7.72 1.47 1.35L5.41 20z\"/>\n",
              "  </svg>\n",
              "      </button>\n",
              "      \n",
              "  <style>\n",
              "    .colab-df-container {\n",
              "      display:flex;\n",
              "      flex-wrap:wrap;\n",
              "      gap: 12px;\n",
              "    }\n",
              "\n",
              "    .colab-df-convert {\n",
              "      background-color: #E8F0FE;\n",
              "      border: none;\n",
              "      border-radius: 50%;\n",
              "      cursor: pointer;\n",
              "      display: none;\n",
              "      fill: #1967D2;\n",
              "      height: 32px;\n",
              "      padding: 0 0 0 0;\n",
              "      width: 32px;\n",
              "    }\n",
              "\n",
              "    .colab-df-convert:hover {\n",
              "      background-color: #E2EBFA;\n",
              "      box-shadow: 0px 1px 2px rgba(60, 64, 67, 0.3), 0px 1px 3px 1px rgba(60, 64, 67, 0.15);\n",
              "      fill: #174EA6;\n",
              "    }\n",
              "\n",
              "    [theme=dark] .colab-df-convert {\n",
              "      background-color: #3B4455;\n",
              "      fill: #D2E3FC;\n",
              "    }\n",
              "\n",
              "    [theme=dark] .colab-df-convert:hover {\n",
              "      background-color: #434B5C;\n",
              "      box-shadow: 0px 1px 3px 1px rgba(0, 0, 0, 0.15);\n",
              "      filter: drop-shadow(0px 1px 2px rgba(0, 0, 0, 0.3));\n",
              "      fill: #FFFFFF;\n",
              "    }\n",
              "  </style>\n",
              "\n",
              "      <script>\n",
              "        const buttonEl =\n",
              "          document.querySelector('#df-c2aed2a8-e2e5-409b-9011-b45ffa84fc1e button.colab-df-convert');\n",
              "        buttonEl.style.display =\n",
              "          google.colab.kernel.accessAllowed ? 'block' : 'none';\n",
              "\n",
              "        async function convertToInteractive(key) {\n",
              "          const element = document.querySelector('#df-c2aed2a8-e2e5-409b-9011-b45ffa84fc1e');\n",
              "          const dataTable =\n",
              "            await google.colab.kernel.invokeFunction('convertToInteractive',\n",
              "                                                     [key], {});\n",
              "          if (!dataTable) return;\n",
              "\n",
              "          const docLinkHtml = 'Like what you see? Visit the ' +\n",
              "            '<a target=\"_blank\" href=https://colab.research.google.com/notebooks/data_table.ipynb>data table notebook</a>'\n",
              "            + ' to learn more about interactive tables.';\n",
              "          element.innerHTML = '';\n",
              "          dataTable['output_type'] = 'display_data';\n",
              "          await google.colab.output.renderOutput(dataTable, element);\n",
              "          const docLink = document.createElement('div');\n",
              "          docLink.innerHTML = docLinkHtml;\n",
              "          element.appendChild(docLink);\n",
              "        }\n",
              "      </script>\n",
              "    </div>\n",
              "  </div>\n",
              "  "
            ]
          },
          "metadata": {},
          "execution_count": 45
        }
      ]
    },
    {
      "cell_type": "code",
      "source": [
        "df_pacientes_modificado.shape"
      ],
      "metadata": {
        "colab": {
          "base_uri": "https://localhost:8080/"
        },
        "id": "xDc-F0odQeST",
        "outputId": "f49aefc4-ca52-470e-d4d2-80af90ff089b"
      },
      "execution_count": null,
      "outputs": [
        {
          "output_type": "execute_result",
          "data": {
            "text/plain": [
              "(100, 16)"
            ]
          },
          "metadata": {},
          "execution_count": 47
        }
      ]
    },
    {
      "cell_type": "code",
      "source": [
        "df = df_pacientes_modificado"
      ],
      "metadata": {
        "id": "0q6kxiPhX9lv"
      },
      "execution_count": null,
      "outputs": []
    },
    {
      "cell_type": "code",
      "source": [
        "df.altura.plot.hist(title='Histograma Altura', figsize=(5,4))\n",
        "plt.xlabel('cm')\n",
        "plt.ylabel('frecuencia')\n",
        "plt.show()"
      ],
      "metadata": {
        "colab": {
          "base_uri": "https://localhost:8080/",
          "height": 295
        },
        "id": "KZ_NiM3gYELG",
        "outputId": "0bac4321-e97d-443f-9a3b-5ea9a7e40913"
      },
      "execution_count": null,
      "outputs": [
        {
          "output_type": "display_data",
          "data": {
            "text/plain": [
              "<Figure size 360x288 with 1 Axes>"
            ],
            "image/png": "[encoded data removed]"
          },
          "metadata": {
            "needs_background": "light"
          }
        }
      ]
    },
    {
      "cell_type": "code",
      "source": [
        "df['altura'].describe() #fila 6 en excel, eliminar esa fila"
      ],
      "metadata": {
        "colab": {
          "base_uri": "https://localhost:8080/"
        },
        "id": "VMXcvdxOZc_9",
        "outputId": "ea25bce2-d104-4a78-cb57-7d179468aa77"
      },
      "execution_count": null,
      "outputs": [
        {
          "output_type": "execute_result",
          "data": {
            "text/plain": [
              "count    100.000000\n",
              "mean       3.181200\n",
              "std       15.335452\n",
              "min        1.540000\n",
              "25%        1.570000\n",
              "50%        1.615000\n",
              "75%        1.742500\n",
              "max      155.000000\n",
              "Name: altura, dtype: float64"
            ]
          },
          "metadata": {},
          "execution_count": 63
        }
      ]
    },
    {
      "cell_type": "code",
      "source": [
        "df_pacientes_modificado['Col.t'].plot.hist(title='Histograma de Colesterol Total')\n",
        "plt.xlabel('mg')\n",
        "plt.ylabel('Frecuencia')\n",
        "plt.show()"
      ],
      "metadata": {
        "id": "5S5eNw3bFPwZ",
        "colab": {
          "base_uri": "https://localhost:8080/",
          "height": 295
        },
        "outputId": "3edee574-47b4-49f9-cfec-7bfd4500e473"
      },
      "execution_count": null,
      "outputs": [
        {
          "output_type": "display_data",
          "data": {
            "text/plain": [
              "<Figure size 432x288 with 1 Axes>"
            ],
            "image/png": "[encoded data removed]"
          },
          "metadata": {
            "needs_background": "light"
          }
        }
      ]
    },
    {
      "cell_type": "code",
      "source": [
        "df_pacientes_modificado.LDL.plot.hist(title='Histograma LDL')\n",
        "plt.xlabel('mg por decilitro')\n",
        "plt.ylabel('Frecuencia')\n",
        "plt.show()"
      ],
      "metadata": {
        "id": "O-vjd5RKFP4_",
        "colab": {
          "base_uri": "https://localhost:8080/",
          "height": 295
        },
        "outputId": "976ad297-1fe0-49b9-9064-e12ee3c4ae6f"
      },
      "execution_count": null,
      "outputs": [
        {
          "output_type": "display_data",
          "data": {
            "text/plain": [
              "<Figure size 432x288 with 1 Axes>"
            ],
            "image/png": "[encoded data removed]"
          },
          "metadata": {
            "needs_background": "light"
          }
        }
      ]
    },
    {
      "cell_type": "code",
      "source": [
        "df_pacientes_modificado.HDL.plot.hist(title='Histograma HDL')\n",
        "plt.xlabel('mg')\n",
        "plt.ylabel('Frecuencia')\n",
        "plt.show()"
      ],
      "metadata": {
        "id": "KhzxKiB5FP_r",
        "colab": {
          "base_uri": "https://localhost:8080/",
          "height": 295
        },
        "outputId": "7fca3a8a-e6cf-4194-e731-c325d8e7180a"
      },
      "execution_count": null,
      "outputs": [
        {
          "output_type": "display_data",
          "data": {
            "text/plain": [
              "<Figure size 432x288 with 1 Axes>"
            ],
            "image/png": "[encoded data removed]"
          },
          "metadata": {
            "needs_background": "light"
          }
        }
      ]
    },
    {
      "cell_type": "code",
      "source": [
        "df_pacientes_modificado['A.U.'].plot.hist(title='Histograma Acido Úrico')\n",
        "plt.xlabel('mg')\n",
        "plt.ylabel('Frecuencia')\n",
        "plt.show()"
      ],
      "metadata": {
        "id": "ncHooTYnFQDO",
        "colab": {
          "base_uri": "https://localhost:8080/",
          "height": 297
        },
        "outputId": "ef3b404c-444f-46f9-ac62-89a61c12b7ab"
      },
      "execution_count": null,
      "outputs": [
        {
          "output_type": "display_data",
          "data": {
            "text/plain": [
              "<Figure size 432x288 with 1 Axes>"
            ],
            "image/png": "[encoded data removed]"
          },
          "metadata": {
            "needs_background": "light"
          }
        }
      ]
    },
    {
      "cell_type": "code",
      "source": [
        "df_pacientes_modificado['Trigli'].plot.hist(title='Historigrama Triglicéridos')\n",
        "plt.xlabel('mg/dl')\n",
        "plt.ylabel('Frecuencia')\n",
        "plt.show()"
      ],
      "metadata": {
        "id": "2R6Rc9G4U4Va",
        "colab": {
          "base_uri": "https://localhost:8080/",
          "height": 295
        },
        "outputId": "16d1a51b-6228-4d4e-b326-8960108d7247"
      },
      "execution_count": null,
      "outputs": [
        {
          "output_type": "display_data",
          "data": {
            "text/plain": [
              "<Figure size 432x288 with 1 Axes>"
            ],
            "image/png": "[encoded data removed]"
          },
          "metadata": {
            "needs_background": "light"
          }
        }
      ]
    },
    {
      "cell_type": "code",
      "source": [
        "df_pacientes_modificado['Gl.'].plot.hist(title='Historigrama Glucosa')\n",
        "plt.xlabel('mg')\n",
        "plt.ylabel('Frecuencia')\n",
        "plt.show()"
      ],
      "metadata": {
        "colab": {
          "base_uri": "https://localhost:8080/",
          "height": 295
        },
        "id": "cCHlBF65MmUJ",
        "outputId": "294a3357-28f1-4e52-a26c-58c25d24d497"
      },
      "execution_count": null,
      "outputs": [
        {
          "output_type": "display_data",
          "data": {
            "text/plain": [
              "<Figure size 432x288 with 1 Axes>"
            ],
            "image/png": "[encoded data removed]"
          },
          "metadata": {
            "needs_background": "light"
          }
        }
      ]
    },
    {
      "cell_type": "code",
      "source": [
        "df_pacientes_modificado['Peso'].plot.hist(title='Historigrama Peso')\n",
        "plt.xlabel('kg')\n",
        "plt.ylabel('Frecuencia')\n",
        "plt.show()"
      ],
      "metadata": {
        "colab": {
          "base_uri": "https://localhost:8080/",
          "height": 295
        },
        "id": "CYP-yzIeM_km",
        "outputId": "1cc80de3-a6af-4fc7-ed66-7929cd7ddafd"
      },
      "execution_count": null,
      "outputs": [
        {
          "output_type": "display_data",
          "data": {
            "text/plain": [
              "<Figure size 432x288 with 1 Axes>"
            ],
            "image/png": "[encoded data removed]"
          },
          "metadata": {
            "needs_background": "light"
          }
        }
      ]
    },
    {
      "cell_type": "code",
      "source": [
        "df_pacientes_modificado.IMC.plot.hist(title='Historigrama IMC')\n",
        "plt.xlabel('kg')\n",
        "plt.ylabel('Frecuencia')\n",
        "plt.show()"
      ],
      "metadata": {
        "colab": {
          "base_uri": "https://localhost:8080/",
          "height": 295
        },
        "id": "YFHhVJ12NNav",
        "outputId": "e6f47634-6d9c-4108-e086-0988bddfdb4d"
      },
      "execution_count": null,
      "outputs": [
        {
          "output_type": "display_data",
          "data": {
            "text/plain": [
              "<Figure size 432x288 with 1 Axes>"
            ],
            "image/png": "[encoded data removed]"
          },
          "metadata": {
            "needs_background": "light"
          }
        }
      ]
    },
    {
      "cell_type": "code",
      "source": [
        "df_pacientes_modificado.Edad.plot.hist(title='Historigrama Edad')\n",
        "plt.xlabel('anios')\n",
        "plt.ylabel('Frecuencia')\n",
        "plt.show()"
      ],
      "metadata": {
        "colab": {
          "base_uri": "https://localhost:8080/",
          "height": 295
        },
        "id": "E6YryLMAQGrt",
        "outputId": "2bf8d9e5-18e1-4ee9-c232-6187242f3460"
      },
      "execution_count": null,
      "outputs": [
        {
          "output_type": "display_data",
          "data": {
            "text/plain": [
              "<Figure size 432x288 with 1 Axes>"
            ],
            "image/png": "[encoded data removed]"
          },
          "metadata": {
            "needs_background": "light"
          }
        }
      ]
    },
    {
      "cell_type": "code",
      "source": [
        "df_pacientes_modificado['P.S'].plot.hist(title='Historigrama Presión Sistólica')\n",
        "plt.xlabel('')\n",
        "plt.ylabel('Frecuencia')\n",
        "plt.show()"
      ],
      "metadata": {
        "colab": {
          "base_uri": "https://localhost:8080/",
          "height": 281
        },
        "id": "v4e9qxskNwMU",
        "outputId": "73a41640-d9cb-4ca9-8ea9-cf6dda6255ee"
      },
      "execution_count": null,
      "outputs": [
        {
          "output_type": "display_data",
          "data": {
            "text/plain": [
              "<Figure size 432x288 with 1 Axes>"
            ],
            "image/png": "[encoded data removed]"
          },
          "metadata": {
            "needs_background": "light"
          }
        }
      ]
    },
    {
      "cell_type": "code",
      "source": [
        "df_pacientes_modificado['P.D'].plot.hist(title='Historigrama Presión Diatólica')\n",
        "plt.xlabel('mlb')\n",
        "plt.ylabel('Frecuencia')\n",
        "plt.show()"
      ],
      "metadata": {
        "colab": {
          "base_uri": "https://localhost:8080/",
          "height": 295
        },
        "id": "Ij5zHFedN2Zk",
        "outputId": "b0113343-b658-4447-f100-7152de022a5f"
      },
      "execution_count": null,
      "outputs": [
        {
          "output_type": "display_data",
          "data": {
            "text/plain": [
              "<Figure size 432x288 with 1 Axes>"
            ],
            "image/png": "[encoded data removed]"
          },
          "metadata": {
            "needs_background": "light"
          }
        }
      ]
    },
    {
      "cell_type": "markdown",
      "metadata": {
        "id": "5JOyi7Te69Ep"
      },
      "source": [
        "##Ejercicio 2\n",
        "\n",
        "Cambie los valores de los atributos Sexo, Hipertensión Arterial, y Estudio Doppler por valores numéricos.\n",
        "\n"
      ]
    },
    {
      "cell_type": "code",
      "source": [
        "df.info()"
      ],
      "metadata": {
        "colab": {
          "base_uri": "https://localhost:8080/"
        },
        "id": "RIS6LkFRbJrb",
        "outputId": "7a55072f-ab5d-423a-ba3b-0ce7aa197a6a"
      },
      "execution_count": null,
      "outputs": [
        {
          "output_type": "stream",
          "name": "stdout",
          "text": [
            "<class 'pandas.core.frame.DataFrame'>\n",
            "RangeIndex: 100 entries, 0 to 99\n",
            "Data columns (total 16 columns):\n",
            " #   Column   Non-Null Count  Dtype  \n",
            "---  ------   --------------  -----  \n",
            " 0   Nº       100 non-null    float64\n",
            " 1   Edad     100 non-null    int64  \n",
            " 2   S.       100 non-null    object \n",
            " 3   Col.t    100 non-null    float64\n",
            " 4   LDL      100 non-null    float64\n",
            " 5   HDL      100 non-null    float64\n",
            " 6   A.U.     100 non-null    float64\n",
            " 7   Trigli   100 non-null    float64\n",
            " 8   Gl.      100 non-null    float64\n",
            " 9   Peso     100 non-null    float64\n",
            " 10  altura   100 non-null    float64\n",
            " 11  IMC      100 non-null    float64\n",
            " 12  Doppler  100 non-null    object \n",
            " 13  P.S      100 non-null    float64\n",
            " 14  P.D      100 non-null    float64\n",
            " 15  HTA      100 non-null    object \n",
            "dtypes: float64(12), int64(1), object(3)\n",
            "memory usage: 12.6+ KB\n"
          ]
        }
      ]
    },
    {
      "cell_type": "code",
      "source": [
        "df['S.'] = df['S.'].replace(['f','m'], [1, 0])"
      ],
      "metadata": {
        "id": "MaYWTipHbRY2"
      },
      "execution_count": null,
      "outputs": []
    },
    {
      "cell_type": "code",
      "source": [
        "df['HTA'] = df['HTA'].replace(['si','no'],[0,1])"
      ],
      "metadata": {
        "id": "gKYZp7PPb8wL"
      },
      "execution_count": null,
      "outputs": []
    },
    {
      "cell_type": "code",
      "source": [
        "df"
      ],
      "metadata": {
        "colab": {
          "base_uri": "https://localhost:8080/",
          "height": 424
        },
        "id": "BE9cciGMbWEo",
        "outputId": "b51da1bc-7045-4e79-c7db-0d2bb2e54100"
      },
      "execution_count": null,
      "outputs": [
        {
          "output_type": "execute_result",
          "data": {
            "text/plain": [
              "       Nº  Edad  S.  Col.t    LDL   HDL  A.U.  Trigli    Gl.  Peso  altura  \\\n",
              "0     1.0    52   1  294.0  221.0  43.0   3.1   149.0   98.0  74.0    1.60   \n",
              "1     2.0    50   1  272.0  178.0  47.0   7.2   207.0  118.0  55.0    1.56   \n",
              "2     3.0    50   1  270.0  198.0  41.0   2.8   162.0   92.0  68.0    1.57   \n",
              "3     4.0    38   0  189.0   11.0  50.0   8.2   142.0  112.0  84.0    1.72   \n",
              "4     5.0    48   1  288.0  221.0  35.0   4.2   151.0   96.0  56.0  155.00   \n",
              "..    ...   ...  ..    ...    ...   ...   ...     ...    ...   ...     ...   \n",
              "95   97.0    51   0  192.0  152.0  38.0   4.2   141.0   89.0  88.0    1.74   \n",
              "96   98.0    70   1  190.0  148.0  42.0   5.2   178.0   85.0  71.0    1.58   \n",
              "97   99.0    59   1  186.0  138.0  44.0   2.8   303.0   92.0  65.0    1.59   \n",
              "98  100.0    58   0  304.0  198.0  38.0   7.8   297.0  126.0  90.0    1.76   \n",
              "99   57.0    64   0  282.0  183.0  34.0   4.5   224.0  103.0  82.0    1.75   \n",
              "\n",
              "     IMC Doppler    P.S   P.D  HTA  \n",
              "0   29.0     emi  130.0  70.0    0  \n",
              "1   23.0   placa  130.0  80.0    0  \n",
              "2   28.0  normal  120.0  80.0    1  \n",
              "3   28.0   placa  120.0  70.0    1  \n",
              "4   23.0  normal  120.0  70.0    0  \n",
              "..   ...     ...    ...   ...  ...  \n",
              "95  29.0   placa  135.0  85.0    0  \n",
              "96  28.0   placa  120.0  70.0    0  \n",
              "97  25.0   placa  120.0  70.0    0  \n",
              "98  29.0   placa  135.0  85.0    0  \n",
              "99  26.0   placa  130.0  70.0    1  \n",
              "\n",
              "[100 rows x 16 columns]"
            ],
            "text/html": [
              "\n",
              "  <div id=\"df-9d979db4-cd01-42f3-adc4-9a56cf90266c\">\n",
              "    <div class=\"colab-df-container\">\n",
              "      <div>\n",
              "<style scoped>\n",
              "    .dataframe tbody tr th:only-of-type {\n",
              "        vertical-align: middle;\n",
              "    }\n",
              "\n",
              "    .dataframe tbody tr th {\n",
              "        vertical-align: top;\n",
              "    }\n",
              "\n",
              "    .dataframe thead th {\n",
              "        text-align: right;\n",
              "    }\n",
              "</style>\n",
              "<table border=\"1\" class=\"dataframe\">\n",
              "  <thead>\n",
              "    <tr style=\"text-align: right;\">\n",
              "      <th></th>\n",
              "      <th>Nº</th>\n",
              "      <th>Edad</th>\n",
              "      <th>S.</th>\n",
              "      <th>Col.t</th>\n",
              "      <th>LDL</th>\n",
              "      <th>HDL</th>\n",
              "      <th>A.U.</th>\n",
              "      <th>Trigli</th>\n",
              "      <th>Gl.</th>\n",
              "      <th>Peso</th>\n",
              "      <th>altura</th>\n",
              "      <th>IMC</th>\n",
              "      <th>Doppler</th>\n",
              "      <th>P.S</th>\n",
              "      <th>P.D</th>\n",
              "      <th>HTA</th>\n",
              "    </tr>\n",
              "  </thead>\n",
              "  <tbody>\n",
              "    <tr>\n",
              "      <th>0</th>\n",
              "      <td>1.0</td>\n",
              "      <td>52</td>\n",
              "      <td>1</td>\n",
              "      <td>294.0</td>\n",
              "      <td>221.0</td>\n",
              "      <td>43.0</td>\n",
              "      <td>3.1</td>\n",
              "      <td>149.0</td>\n",
              "      <td>98.0</td>\n",
              "      <td>74.0</td>\n",
              "      <td>1.60</td>\n",
              "      <td>29.0</td>\n",
              "      <td>emi</td>\n",
              "      <td>130.0</td>\n",
              "      <td>70.0</td>\n",
              "      <td>0</td>\n",
              "    </tr>\n",
              "    <tr>\n",
              "      <th>1</th>\n",
              "      <td>2.0</td>\n",
              "      <td>50</td>\n",
              "      <td>1</td>\n",
              "      <td>272.0</td>\n",
              "      <td>178.0</td>\n",
              "      <td>47.0</td>\n",
              "      <td>7.2</td>\n",
              "      <td>207.0</td>\n",
              "      <td>118.0</td>\n",
              "      <td>55.0</td>\n",
              "      <td>1.56</td>\n",
              "      <td>23.0</td>\n",
              "      <td>placa</td>\n",
              "      <td>130.0</td>\n",
              "      <td>80.0</td>\n",
              "      <td>0</td>\n",
              "    </tr>\n",
              "    <tr>\n",
              "      <th>2</th>\n",
              "      <td>3.0</td>\n",
              "      <td>50</td>\n",
              "      <td>1</td>\n",
              "      <td>270.0</td>\n",
              "      <td>198.0</td>\n",
              "      <td>41.0</td>\n",
              "      <td>2.8</td>\n",
              "      <td>162.0</td>\n",
              "      <td>92.0</td>\n",
              "      <td>68.0</td>\n",
              "      <td>1.57</td>\n",
              "      <td>28.0</td>\n",
              "      <td>normal</td>\n",
              "      <td>120.0</td>\n",
              "      <td>80.0</td>\n",
              "      <td>1</td>\n",
              "    </tr>\n",
              "    <tr>\n",
              "      <th>3</th>\n",
              "      <td>4.0</td>\n",
              "      <td>38</td>\n",
              "      <td>0</td>\n",
              "      <td>189.0</td>\n",
              "      <td>11.0</td>\n",
              "      <td>50.0</td>\n",
              "      <td>8.2</td>\n",
              "      <td>142.0</td>\n",
              "      <td>112.0</td>\n",
              "      <td>84.0</td>\n",
              "      <td>1.72</td>\n",
              "      <td>28.0</td>\n",
              "      <td>placa</td>\n",
              "      <td>120.0</td>\n",
              "      <td>70.0</td>\n",
              "      <td>1</td>\n",
              "    </tr>\n",
              "    <tr>\n",
              "      <th>4</th>\n",
              "      <td>5.0</td>\n",
              "      <td>48</td>\n",
              "      <td>1</td>\n",
              "      <td>288.0</td>\n",
              "      <td>221.0</td>\n",
              "      <td>35.0</td>\n",
              "      <td>4.2</td>\n",
              "      <td>151.0</td>\n",
              "      <td>96.0</td>\n",
              "      <td>56.0</td>\n",
              "      <td>155.00</td>\n",
              "      <td>23.0</td>\n",
              "      <td>normal</td>\n",
              "      <td>120.0</td>\n",
              "      <td>70.0</td>\n",
              "      <td>0</td>\n",
              "    </tr>\n",
              "    <tr>\n",
              "      <th>...</th>\n",
              "      <td>...</td>\n",
              "      <td>...</td>\n",
              "      <td>...</td>\n",
              "      <td>...</td>\n",
              "      <td>...</td>\n",
              "      <td>...</td>\n",
              "      <td>...</td>\n",
              "      <td>...</td>\n",
              "      <td>...</td>\n",
              "      <td>...</td>\n",
              "      <td>...</td>\n",
              "      <td>...</td>\n",
              "      <td>...</td>\n",
              "      <td>...</td>\n",
              "      <td>...</td>\n",
              "      <td>...</td>\n",
              "    </tr>\n",
              "    <tr>\n",
              "      <th>95</th>\n",
              "      <td>97.0</td>\n",
              "      <td>51</td>\n",
              "      <td>0</td>\n",
              "      <td>192.0</td>\n",
              "      <td>152.0</td>\n",
              "      <td>38.0</td>\n",
              "      <td>4.2</td>\n",
              "      <td>141.0</td>\n",
              "      <td>89.0</td>\n",
              "      <td>88.0</td>\n",
              "      <td>1.74</td>\n",
              "      <td>29.0</td>\n",
              "      <td>placa</td>\n",
              "      <td>135.0</td>\n",
              "      <td>85.0</td>\n",
              "      <td>0</td>\n",
              "    </tr>\n",
              "    <tr>\n",
              "      <th>96</th>\n",
              "      <td>98.0</td>\n",
              "      <td>70</td>\n",
              "      <td>1</td>\n",
              "      <td>190.0</td>\n",
              "      <td>148.0</td>\n",
              "      <td>42.0</td>\n",
              "      <td>5.2</td>\n",
              "      <td>178.0</td>\n",
              "      <td>85.0</td>\n",
              "      <td>71.0</td>\n",
              "      <td>1.58</td>\n",
              "      <td>28.0</td>\n",
              "      <td>placa</td>\n",
              "      <td>120.0</td>\n",
              "      <td>70.0</td>\n",
              "      <td>0</td>\n",
              "    </tr>\n",
              "    <tr>\n",
              "      <th>97</th>\n",
              "      <td>99.0</td>\n",
              "      <td>59</td>\n",
              "      <td>1</td>\n",
              "      <td>186.0</td>\n",
              "      <td>138.0</td>\n",
              "      <td>44.0</td>\n",
              "      <td>2.8</td>\n",
              "      <td>303.0</td>\n",
              "      <td>92.0</td>\n",
              "      <td>65.0</td>\n",
              "      <td>1.59</td>\n",
              "      <td>25.0</td>\n",
              "      <td>placa</td>\n",
              "      <td>120.0</td>\n",
              "      <td>70.0</td>\n",
              "      <td>0</td>\n",
              "    </tr>\n",
              "    <tr>\n",
              "      <th>98</th>\n",
              "      <td>100.0</td>\n",
              "      <td>58</td>\n",
              "      <td>0</td>\n",
              "      <td>304.0</td>\n",
              "      <td>198.0</td>\n",
              "      <td>38.0</td>\n",
              "      <td>7.8</td>\n",
              "      <td>297.0</td>\n",
              "      <td>126.0</td>\n",
              "      <td>90.0</td>\n",
              "      <td>1.76</td>\n",
              "      <td>29.0</td>\n",
              "      <td>placa</td>\n",
              "      <td>135.0</td>\n",
              "      <td>85.0</td>\n",
              "      <td>0</td>\n",
              "    </tr>\n",
              "    <tr>\n",
              "      <th>99</th>\n",
              "      <td>57.0</td>\n",
              "      <td>64</td>\n",
              "      <td>0</td>\n",
              "      <td>282.0</td>\n",
              "      <td>183.0</td>\n",
              "      <td>34.0</td>\n",
              "      <td>4.5</td>\n",
              "      <td>224.0</td>\n",
              "      <td>103.0</td>\n",
              "      <td>82.0</td>\n",
              "      <td>1.75</td>\n",
              "      <td>26.0</td>\n",
              "      <td>placa</td>\n",
              "      <td>130.0</td>\n",
              "      <td>70.0</td>\n",
              "      <td>1</td>\n",
              "    </tr>\n",
              "  </tbody>\n",
              "</table>\n",
              "<p>100 rows × 16 columns</p>\n",
              "</div>\n",
              "      <button class=\"colab-df-convert\" onclick=\"convertToInteractive('df-9d979db4-cd01-42f3-adc4-9a56cf90266c')\"\n",
              "              title=\"Convert this dataframe to an interactive table.\"\n",
              "              style=\"display:none;\">\n",
              "        \n",
              "  <svg xmlns=\"http://www.w3.org/2000/svg\" height=\"24px\"viewBox=\"0 0 24 24\"\n",
              "       width=\"24px\">\n",
              "    <path d=\"M0 0h24v24H0V0z\" fill=\"none\"/>\n",
              "    <path d=\"M18.56 5.44l.94 2.06.94-2.06 2.06-.94-2.06-.94-.94-2.06-.94 2.06-2.06.94zm-11 1L8.5 8.5l.94-2.06 2.06-.94-2.06-.94L8.5 2.5l-.94 2.06-2.06.94zm10 10l.94 2.06.94-2.06 2.06-.94-2.06-.94-.94-2.06-.94 2.06-2.06.94z\"/><path d=\"M17.41 7.96l-1.37-1.37c-.4-.4-.92-.59-1.43-.59-.52 0-1.04.2-1.43.59L10.3 9.45l-7.72 7.72c-.78.78-.78 2.05 0 2.83L4 21.41c.39.39.9.59 1.41.59.51 0 1.02-.2 1.41-.59l7.78-7.78 2.81-2.81c.8-.78.8-2.07 0-2.86zM5.41 20L4 18.59l7.72-7.72 1.47 1.35L5.41 20z\"/>\n",
              "  </svg>\n",
              "      </button>\n",
              "      \n",
              "  <style>\n",
              "    .colab-df-container {\n",
              "      display:flex;\n",
              "      flex-wrap:wrap;\n",
              "      gap: 12px;\n",
              "    }\n",
              "\n",
              "    .colab-df-convert {\n",
              "      background-color: #E8F0FE;\n",
              "      border: none;\n",
              "      border-radius: 50%;\n",
              "      cursor: pointer;\n",
              "      display: none;\n",
              "      fill: #1967D2;\n",
              "      height: 32px;\n",
              "      padding: 0 0 0 0;\n",
              "      width: 32px;\n",
              "    }\n",
              "\n",
              "    .colab-df-convert:hover {\n",
              "      background-color: #E2EBFA;\n",
              "      box-shadow: 0px 1px 2px rgba(60, 64, 67, 0.3), 0px 1px 3px 1px rgba(60, 64, 67, 0.15);\n",
              "      fill: #174EA6;\n",
              "    }\n",
              "\n",
              "    [theme=dark] .colab-df-convert {\n",
              "      background-color: #3B4455;\n",
              "      fill: #D2E3FC;\n",
              "    }\n",
              "\n",
              "    [theme=dark] .colab-df-convert:hover {\n",
              "      background-color: #434B5C;\n",
              "      box-shadow: 0px 1px 3px 1px rgba(0, 0, 0, 0.15);\n",
              "      filter: drop-shadow(0px 1px 2px rgba(0, 0, 0, 0.3));\n",
              "      fill: #FFFFFF;\n",
              "    }\n",
              "  </style>\n",
              "\n",
              "      <script>\n",
              "        const buttonEl =\n",
              "          document.querySelector('#df-9d979db4-cd01-42f3-adc4-9a56cf90266c button.colab-df-convert');\n",
              "        buttonEl.style.display =\n",
              "          google.colab.kernel.accessAllowed ? 'block' : 'none';\n",
              "\n",
              "        async function convertToInteractive(key) {\n",
              "          const element = document.querySelector('#df-9d979db4-cd01-42f3-adc4-9a56cf90266c');\n",
              "          const dataTable =\n",
              "            await google.colab.kernel.invokeFunction('convertToInteractive',\n",
              "                                                     [key], {});\n",
              "          if (!dataTable) return;\n",
              "\n",
              "          const docLinkHtml = 'Like what you see? Visit the ' +\n",
              "            '<a target=\"_blank\" href=https://colab.research.google.com/notebooks/data_table.ipynb>data table notebook</a>'\n",
              "            + ' to learn more about interactive tables.';\n",
              "          element.innerHTML = '';\n",
              "          dataTable['output_type'] = 'display_data';\n",
              "          await google.colab.output.renderOutput(dataTable, element);\n",
              "          const docLink = document.createElement('div');\n",
              "          docLink.innerHTML = docLinkHtml;\n",
              "          element.appendChild(docLink);\n",
              "        }\n",
              "      </script>\n",
              "    </div>\n",
              "  </div>\n",
              "  "
            ]
          },
          "metadata": {},
          "execution_count": 73
        }
      ]
    },
    {
      "cell_type": "markdown",
      "source": [
        "##Ejercicio 3 \n",
        "\n",
        "Realice un diagrama de dispersión (scatterplot) entre las variables Sexo e Hipertensión Arterial.Indique si existe relación lineal.\n"
      ],
      "metadata": {
        "id": "0IjtGBVC7P5S"
      }
    },
    {
      "cell_type": "code",
      "source": [
        "df.plot.scatter(x='S.', y='HTA')\n",
        "plt.xlabel('Sexo')\n",
        "plt.ylabel('Hipertencion Arterial')\n",
        "plt.title('Sexo y Hipertencion')\n",
        "plt.show()"
      ],
      "metadata": {
        "id": "pql4vT8a8EY4",
        "colab": {
          "base_uri": "https://localhost:8080/",
          "height": 295
        },
        "outputId": "15a8570e-3f2f-4c5e-ae52-8156cc230478"
      },
      "execution_count": null,
      "outputs": [
        {
          "output_type": "display_data",
          "data": {
            "text/plain": [
              "<Figure size 432x288 with 1 Axes>"
            ],
            "image/png": "[encoded data removed]"
          },
          "metadata": {
            "needs_background": "light"
          }
        }
      ]
    },
    {
      "cell_type": "code",
      "source": [
        "df.corr(method='pearson') # Nos da la correlacion entre variables"
      ],
      "metadata": {
        "id": "8tz6B94Tz8Oq",
        "colab": {
          "base_uri": "https://localhost:8080/",
          "height": 584
        },
        "outputId": "eedec947-383b-45e7-b32c-01b983c68349"
      },
      "execution_count": null,
      "outputs": [
        {
          "output_type": "execute_result",
          "data": {
            "text/plain": [
              "              Nº      Edad        S.     Col.t       LDL       HDL      A.U.  \\\n",
              "Nº      1.000000  0.314166 -0.067266 -0.186104 -0.059628  0.136842 -0.029038   \n",
              "Edad    0.314166  1.000000  0.087067 -0.118538 -0.075948  0.056265 -0.146843   \n",
              "S.     -0.067266  0.087067  1.000000 -0.104712  0.047042  0.121316 -0.448745   \n",
              "Col.t  -0.186104 -0.118538 -0.104712  1.000000  0.880895 -0.448647  0.134707   \n",
              "LDL    -0.059628 -0.075948  0.047042  0.880895  1.000000 -0.463543 -0.046213   \n",
              "HDL     0.136842  0.056265  0.121316 -0.448647 -0.463543  1.000000 -0.074453   \n",
              "A.U.   -0.029038 -0.146843 -0.448745  0.134707 -0.046213 -0.074453  1.000000   \n",
              "Trigli  0.105651  0.062664 -0.116844  0.092833  0.054069 -0.375035  0.418645   \n",
              "Gl.     0.138775  0.125723 -0.135519  0.036240 -0.048408 -0.099735  0.267546   \n",
              "Peso    0.164722 -0.008813 -0.708999  0.141917 -0.015073 -0.088664  0.522096   \n",
              "altura -0.157364 -0.041769  0.079416  0.117841  0.150183 -0.133137 -0.038331   \n",
              "IMC    -0.036743  0.122969 -0.163676  0.072330 -0.042462 -0.111027  0.376634   \n",
              "P.S     0.061970  0.124148 -0.207269  0.227537  0.127453 -0.129742  0.219043   \n",
              "P.D     0.089190  0.111999 -0.220913  0.143516  0.050871 -0.113619  0.264373   \n",
              "HTA    -0.178662 -0.321795 -0.039322 -0.028198 -0.075107 -0.017651 -0.006926   \n",
              "\n",
              "          Trigli       Gl.      Peso    altura       IMC       P.S       P.D  \\\n",
              "Nº      0.105651  0.138775  0.164722 -0.157364 -0.036743  0.061970  0.089190   \n",
              "Edad    0.062664  0.125723 -0.008813 -0.041769  0.122969  0.124148  0.111999   \n",
              "S.     -0.116844 -0.135519 -0.708999  0.079416 -0.163676 -0.207269 -0.220913   \n",
              "Col.t   0.092833  0.036240  0.141917  0.117841  0.072330  0.227537  0.143516   \n",
              "LDL     0.054069 -0.048408 -0.015073  0.150183 -0.042462  0.127453  0.050871   \n",
              "HDL    -0.375035 -0.099735 -0.088664 -0.133137 -0.111027 -0.129742 -0.113619   \n",
              "A.U.    0.418645  0.267546  0.522096 -0.038331  0.376634  0.219043  0.264373   \n",
              "Trigli  1.000000  0.312697  0.330905 -0.061399  0.402195  0.161319  0.197754   \n",
              "Gl.     0.312697  1.000000  0.366134 -0.018433  0.263731  0.153162  0.114350   \n",
              "Peso    0.330905  0.366134  1.000000 -0.138350  0.644156  0.312434  0.331061   \n",
              "altura -0.061399 -0.018433 -0.138350  1.000000 -0.110919 -0.057668 -0.046788   \n",
              "IMC     0.402195  0.263731  0.644156 -0.110919  1.000000  0.301661  0.352902   \n",
              "P.S     0.161319  0.153162  0.312434 -0.057668  0.301661  1.000000  0.796383   \n",
              "P.D     0.197754  0.114350  0.331061 -0.046788  0.352902  0.796383  1.000000   \n",
              "HTA    -0.063883 -0.239929 -0.136537 -0.088594 -0.304366 -0.258209 -0.153956   \n",
              "\n",
              "             HTA  \n",
              "Nº     -0.178662  \n",
              "Edad   -0.321795  \n",
              "S.     -0.039322  \n",
              "Col.t  -0.028198  \n",
              "LDL    -0.075107  \n",
              "HDL    -0.017651  \n",
              "A.U.   -0.006926  \n",
              "Trigli -0.063883  \n",
              "Gl.    -0.239929  \n",
              "Peso   -0.136537  \n",
              "altura -0.088594  \n",
              "IMC    -0.304366  \n",
              "P.S    -0.258209  \n",
              "P.D    -0.153956  \n",
              "HTA     1.000000  "
            ],
            "text/html": [
              "\n",
              "  <div id=\"df-95492b35-36e4-4e88-96a3-04fd217e7b1d\">\n",
              "    <div class=\"colab-df-container\">\n",
              "      <div>\n",
              "<style scoped>\n",
              "    .dataframe tbody tr th:only-of-type {\n",
              "        vertical-align: middle;\n",
              "    }\n",
              "\n",
              "    .dataframe tbody tr th {\n",
              "        vertical-align: top;\n",
              "    }\n",
              "\n",
              "    .dataframe thead th {\n",
              "        text-align: right;\n",
              "    }\n",
              "</style>\n",
              "<table border=\"1\" class=\"dataframe\">\n",
              "  <thead>\n",
              "    <tr style=\"text-align: right;\">\n",
              "      <th></th>\n",
              "      <th>Nº</th>\n",
              "      <th>Edad</th>\n",
              "      <th>S.</th>\n",
              "      <th>Col.t</th>\n",
              "      <th>LDL</th>\n",
              "      <th>HDL</th>\n",
              "      <th>A.U.</th>\n",
              "      <th>Trigli</th>\n",
              "      <th>Gl.</th>\n",
              "      <th>Peso</th>\n",
              "      <th>altura</th>\n",
              "      <th>IMC</th>\n",
              "      <th>P.S</th>\n",
              "      <th>P.D</th>\n",
              "      <th>HTA</th>\n",
              "    </tr>\n",
              "  </thead>\n",
              "  <tbody>\n",
              "    <tr>\n",
              "      <th>Nº</th>\n",
              "      <td>1.000000</td>\n",
              "      <td>0.314166</td>\n",
              "      <td>-0.067266</td>\n",
              "      <td>-0.186104</td>\n",
              "      <td>-0.059628</td>\n",
              "      <td>0.136842</td>\n",
              "      <td>-0.029038</td>\n",
              "      <td>0.105651</td>\n",
              "      <td>0.138775</td>\n",
              "      <td>0.164722</td>\n",
              "      <td>-0.157364</td>\n",
              "      <td>-0.036743</td>\n",
              "      <td>0.061970</td>\n",
              "      <td>0.089190</td>\n",
              "      <td>-0.178662</td>\n",
              "    </tr>\n",
              "    <tr>\n",
              "      <th>Edad</th>\n",
              "      <td>0.314166</td>\n",
              "      <td>1.000000</td>\n",
              "      <td>0.087067</td>\n",
              "      <td>-0.118538</td>\n",
              "      <td>-0.075948</td>\n",
              "      <td>0.056265</td>\n",
              "      <td>-0.146843</td>\n",
              "      <td>0.062664</td>\n",
              "      <td>0.125723</td>\n",
              "      <td>-0.008813</td>\n",
              "      <td>-0.041769</td>\n",
              "      <td>0.122969</td>\n",
              "      <td>0.124148</td>\n",
              "      <td>0.111999</td>\n",
              "      <td>-0.321795</td>\n",
              "    </tr>\n",
              "    <tr>\n",
              "      <th>S.</th>\n",
              "      <td>-0.067266</td>\n",
              "      <td>0.087067</td>\n",
              "      <td>1.000000</td>\n",
              "      <td>-0.104712</td>\n",
              "      <td>0.047042</td>\n",
              "      <td>0.121316</td>\n",
              "      <td>-0.448745</td>\n",
              "      <td>-0.116844</td>\n",
              "      <td>-0.135519</td>\n",
              "      <td>-0.708999</td>\n",
              "      <td>0.079416</td>\n",
              "      <td>-0.163676</td>\n",
              "      <td>-0.207269</td>\n",
              "      <td>-0.220913</td>\n",
              "      <td>-0.039322</td>\n",
              "    </tr>\n",
              "    <tr>\n",
              "      <th>Col.t</th>\n",
              "      <td>-0.186104</td>\n",
              "      <td>-0.118538</td>\n",
              "      <td>-0.104712</td>\n",
              "      <td>1.000000</td>\n",
              "      <td>0.880895</td>\n",
              "      <td>-0.448647</td>\n",
              "      <td>0.134707</td>\n",
              "      <td>0.092833</td>\n",
              "      <td>0.036240</td>\n",
              "      <td>0.141917</td>\n",
              "      <td>0.117841</td>\n",
              "      <td>0.072330</td>\n",
              "      <td>0.227537</td>\n",
              "      <td>0.143516</td>\n",
              "      <td>-0.028198</td>\n",
              "    </tr>\n",
              "    <tr>\n",
              "      <th>LDL</th>\n",
              "      <td>-0.059628</td>\n",
              "      <td>-0.075948</td>\n",
              "      <td>0.047042</td>\n",
              "      <td>0.880895</td>\n",
              "      <td>1.000000</td>\n",
              "      <td>-0.463543</td>\n",
              "      <td>-0.046213</td>\n",
              "      <td>0.054069</td>\n",
              "      <td>-0.048408</td>\n",
              "      <td>-0.015073</td>\n",
              "      <td>0.150183</td>\n",
              "      <td>-0.042462</td>\n",
              "      <td>0.127453</td>\n",
              "      <td>0.050871</td>\n",
              "      <td>-0.075107</td>\n",
              "    </tr>\n",
              "    <tr>\n",
              "      <th>HDL</th>\n",
              "      <td>0.136842</td>\n",
              "      <td>0.056265</td>\n",
              "      <td>0.121316</td>\n",
              "      <td>-0.448647</td>\n",
              "      <td>-0.463543</td>\n",
              "      <td>1.000000</td>\n",
              "      <td>-0.074453</td>\n",
              "      <td>-0.375035</td>\n",
              "      <td>-0.099735</td>\n",
              "      <td>-0.088664</td>\n",
              "      <td>-0.133137</td>\n",
              "      <td>-0.111027</td>\n",
              "      <td>-0.129742</td>\n",
              "      <td>-0.113619</td>\n",
              "      <td>-0.017651</td>\n",
              "    </tr>\n",
              "    <tr>\n",
              "      <th>A.U.</th>\n",
              "      <td>-0.029038</td>\n",
              "      <td>-0.146843</td>\n",
              "      <td>-0.448745</td>\n",
              "      <td>0.134707</td>\n",
              "      <td>-0.046213</td>\n",
              "      <td>-0.074453</td>\n",
              "      <td>1.000000</td>\n",
              "      <td>0.418645</td>\n",
              "      <td>0.267546</td>\n",
              "      <td>0.522096</td>\n",
              "      <td>-0.038331</td>\n",
              "      <td>0.376634</td>\n",
              "      <td>0.219043</td>\n",
              "      <td>0.264373</td>\n",
              "      <td>-0.006926</td>\n",
              "    </tr>\n",
              "    <tr>\n",
              "      <th>Trigli</th>\n",
              "      <td>0.105651</td>\n",
              "      <td>0.062664</td>\n",
              "      <td>-0.116844</td>\n",
              "      <td>0.092833</td>\n",
              "      <td>0.054069</td>\n",
              "      <td>-0.375035</td>\n",
              "      <td>0.418645</td>\n",
              "      <td>1.000000</td>\n",
              "      <td>0.312697</td>\n",
              "      <td>0.330905</td>\n",
              "      <td>-0.061399</td>\n",
              "      <td>0.402195</td>\n",
              "      <td>0.161319</td>\n",
              "      <td>0.197754</td>\n",
              "      <td>-0.063883</td>\n",
              "    </tr>\n",
              "    <tr>\n",
              "      <th>Gl.</th>\n",
              "      <td>0.138775</td>\n",
              "      <td>0.125723</td>\n",
              "      <td>-0.135519</td>\n",
              "      <td>0.036240</td>\n",
              "      <td>-0.048408</td>\n",
              "      <td>-0.099735</td>\n",
              "      <td>0.267546</td>\n",
              "      <td>0.312697</td>\n",
              "      <td>1.000000</td>\n",
              "      <td>0.366134</td>\n",
              "      <td>-0.018433</td>\n",
              "      <td>0.263731</td>\n",
              "      <td>0.153162</td>\n",
              "      <td>0.114350</td>\n",
              "      <td>-0.239929</td>\n",
              "    </tr>\n",
              "    <tr>\n",
              "      <th>Peso</th>\n",
              "      <td>0.164722</td>\n",
              "      <td>-0.008813</td>\n",
              "      <td>-0.708999</td>\n",
              "      <td>0.141917</td>\n",
              "      <td>-0.015073</td>\n",
              "      <td>-0.088664</td>\n",
              "      <td>0.522096</td>\n",
              "      <td>0.330905</td>\n",
              "      <td>0.366134</td>\n",
              "      <td>1.000000</td>\n",
              "      <td>-0.138350</td>\n",
              "      <td>0.644156</td>\n",
              "      <td>0.312434</td>\n",
              "      <td>0.331061</td>\n",
              "      <td>-0.136537</td>\n",
              "    </tr>\n",
              "    <tr>\n",
              "      <th>altura</th>\n",
              "      <td>-0.157364</td>\n",
              "      <td>-0.041769</td>\n",
              "      <td>0.079416</td>\n",
              "      <td>0.117841</td>\n",
              "      <td>0.150183</td>\n",
              "      <td>-0.133137</td>\n",
              "      <td>-0.038331</td>\n",
              "      <td>-0.061399</td>\n",
              "      <td>-0.018433</td>\n",
              "      <td>-0.138350</td>\n",
              "      <td>1.000000</td>\n",
              "      <td>-0.110919</td>\n",
              "      <td>-0.057668</td>\n",
              "      <td>-0.046788</td>\n",
              "      <td>-0.088594</td>\n",
              "    </tr>\n",
              "    <tr>\n",
              "      <th>IMC</th>\n",
              "      <td>-0.036743</td>\n",
              "      <td>0.122969</td>\n",
              "      <td>-0.163676</td>\n",
              "      <td>0.072330</td>\n",
              "      <td>-0.042462</td>\n",
              "      <td>-0.111027</td>\n",
              "      <td>0.376634</td>\n",
              "      <td>0.402195</td>\n",
              "      <td>0.263731</td>\n",
              "      <td>0.644156</td>\n",
              "      <td>-0.110919</td>\n",
              "      <td>1.000000</td>\n",
              "      <td>0.301661</td>\n",
              "      <td>0.352902</td>\n",
              "      <td>-0.304366</td>\n",
              "    </tr>\n",
              "    <tr>\n",
              "      <th>P.S</th>\n",
              "      <td>0.061970</td>\n",
              "      <td>0.124148</td>\n",
              "      <td>-0.207269</td>\n",
              "      <td>0.227537</td>\n",
              "      <td>0.127453</td>\n",
              "      <td>-0.129742</td>\n",
              "      <td>0.219043</td>\n",
              "      <td>0.161319</td>\n",
              "      <td>0.153162</td>\n",
              "      <td>0.312434</td>\n",
              "      <td>-0.057668</td>\n",
              "      <td>0.301661</td>\n",
              "      <td>1.000000</td>\n",
              "      <td>0.796383</td>\n",
              "      <td>-0.258209</td>\n",
              "    </tr>\n",
              "    <tr>\n",
              "      <th>P.D</th>\n",
              "      <td>0.089190</td>\n",
              "      <td>0.111999</td>\n",
              "      <td>-0.220913</td>\n",
              "      <td>0.143516</td>\n",
              "      <td>0.050871</td>\n",
              "      <td>-0.113619</td>\n",
              "      <td>0.264373</td>\n",
              "      <td>0.197754</td>\n",
              "      <td>0.114350</td>\n",
              "      <td>0.331061</td>\n",
              "      <td>-0.046788</td>\n",
              "      <td>0.352902</td>\n",
              "      <td>0.796383</td>\n",
              "      <td>1.000000</td>\n",
              "      <td>-0.153956</td>\n",
              "    </tr>\n",
              "    <tr>\n",
              "      <th>HTA</th>\n",
              "      <td>-0.178662</td>\n",
              "      <td>-0.321795</td>\n",
              "      <td>-0.039322</td>\n",
              "      <td>-0.028198</td>\n",
              "      <td>-0.075107</td>\n",
              "      <td>-0.017651</td>\n",
              "      <td>-0.006926</td>\n",
              "      <td>-0.063883</td>\n",
              "      <td>-0.239929</td>\n",
              "      <td>-0.136537</td>\n",
              "      <td>-0.088594</td>\n",
              "      <td>-0.304366</td>\n",
              "      <td>-0.258209</td>\n",
              "      <td>-0.153956</td>\n",
              "      <td>1.000000</td>\n",
              "    </tr>\n",
              "  </tbody>\n",
              "</table>\n",
              "</div>\n",
              "      <button class=\"colab-df-convert\" onclick=\"convertToInteractive('df-95492b35-36e4-4e88-96a3-04fd217e7b1d')\"\n",
              "              title=\"Convert this dataframe to an interactive table.\"\n",
              "              style=\"display:none;\">\n",
              "        \n",
              "  <svg xmlns=\"http://www.w3.org/2000/svg\" height=\"24px\"viewBox=\"0 0 24 24\"\n",
              "       width=\"24px\">\n",
              "    <path d=\"M0 0h24v24H0V0z\" fill=\"none\"/>\n",
              "    <path d=\"M18.56 5.44l.94 2.06.94-2.06 2.06-.94-2.06-.94-.94-2.06-.94 2.06-2.06.94zm-11 1L8.5 8.5l.94-2.06 2.06-.94-2.06-.94L8.5 2.5l-.94 2.06-2.06.94zm10 10l.94 2.06.94-2.06 2.06-.94-2.06-.94-.94-2.06-.94 2.06-2.06.94z\"/><path d=\"M17.41 7.96l-1.37-1.37c-.4-.4-.92-.59-1.43-.59-.52 0-1.04.2-1.43.59L10.3 9.45l-7.72 7.72c-.78.78-.78 2.05 0 2.83L4 21.41c.39.39.9.59 1.41.59.51 0 1.02-.2 1.41-.59l7.78-7.78 2.81-2.81c.8-.78.8-2.07 0-2.86zM5.41 20L4 18.59l7.72-7.72 1.47 1.35L5.41 20z\"/>\n",
              "  </svg>\n",
              "      </button>\n",
              "      \n",
              "  <style>\n",
              "    .colab-df-container {\n",
              "      display:flex;\n",
              "      flex-wrap:wrap;\n",
              "      gap: 12px;\n",
              "    }\n",
              "\n",
              "    .colab-df-convert {\n",
              "      background-color: #E8F0FE;\n",
              "      border: none;\n",
              "      border-radius: 50%;\n",
              "      cursor: pointer;\n",
              "      display: none;\n",
              "      fill: #1967D2;\n",
              "      height: 32px;\n",
              "      padding: 0 0 0 0;\n",
              "      width: 32px;\n",
              "    }\n",
              "\n",
              "    .colab-df-convert:hover {\n",
              "      background-color: #E2EBFA;\n",
              "      box-shadow: 0px 1px 2px rgba(60, 64, 67, 0.3), 0px 1px 3px 1px rgba(60, 64, 67, 0.15);\n",
              "      fill: #174EA6;\n",
              "    }\n",
              "\n",
              "    [theme=dark] .colab-df-convert {\n",
              "      background-color: #3B4455;\n",
              "      fill: #D2E3FC;\n",
              "    }\n",
              "\n",
              "    [theme=dark] .colab-df-convert:hover {\n",
              "      background-color: #434B5C;\n",
              "      box-shadow: 0px 1px 3px 1px rgba(0, 0, 0, 0.15);\n",
              "      filter: drop-shadow(0px 1px 2px rgba(0, 0, 0, 0.3));\n",
              "      fill: #FFFFFF;\n",
              "    }\n",
              "  </style>\n",
              "\n",
              "      <script>\n",
              "        const buttonEl =\n",
              "          document.querySelector('#df-95492b35-36e4-4e88-96a3-04fd217e7b1d button.colab-df-convert');\n",
              "        buttonEl.style.display =\n",
              "          google.colab.kernel.accessAllowed ? 'block' : 'none';\n",
              "\n",
              "        async function convertToInteractive(key) {\n",
              "          const element = document.querySelector('#df-95492b35-36e4-4e88-96a3-04fd217e7b1d');\n",
              "          const dataTable =\n",
              "            await google.colab.kernel.invokeFunction('convertToInteractive',\n",
              "                                                     [key], {});\n",
              "          if (!dataTable) return;\n",
              "\n",
              "          const docLinkHtml = 'Like what you see? Visit the ' +\n",
              "            '<a target=\"_blank\" href=https://colab.research.google.com/notebooks/data_table.ipynb>data table notebook</a>'\n",
              "            + ' to learn more about interactive tables.';\n",
              "          element.innerHTML = '';\n",
              "          dataTable['output_type'] = 'display_data';\n",
              "          await google.colab.output.renderOutput(dataTable, element);\n",
              "          const docLink = document.createElement('div');\n",
              "          docLink.innerHTML = docLinkHtml;\n",
              "          element.appendChild(docLink);\n",
              "        }\n",
              "      </script>\n",
              "    </div>\n",
              "  </div>\n",
              "  "
            ]
          },
          "metadata": {},
          "execution_count": 77
        }
      ]
    },
    {
      "cell_type": "markdown",
      "source": [
        "\n",
        "##Ejercicio 4\n",
        "Realice un diagram de dispersión, entre la variables Peso y la variable IMC (Indice de masa corporal) . Indique si existe relación lineal.\n"
      ],
      "metadata": {
        "id": "GcgCacvO7R4o"
      }
    },
    {
      "cell_type": "code",
      "source": [
        "df.plot.scatter(x='Peso', y='IMC')\n",
        "plt.title('Peso e Indice de Masa Corporal')\n",
        "plt.show()"
      ],
      "metadata": {
        "id": "yxggJiKxAVVH",
        "colab": {
          "base_uri": "https://localhost:8080/",
          "height": 295
        },
        "outputId": "a22e95e0-5f27-481f-f314-39898bca65d7"
      },
      "execution_count": null,
      "outputs": [
        {
          "output_type": "display_data",
          "data": {
            "text/plain": [
              "<Figure size 432x288 with 1 Axes>"
            ],
            "image/png": "[encoded data removed]"
          },
          "metadata": {
            "needs_background": "light"
          }
        }
      ]
    },
    {
      "cell_type": "code",
      "source": [
        "df.plot.scatter(x='P.S', y='P.D', c='tab:red')\n",
        "plt.title('P.S y P.D')\n",
        "plt.show()"
      ],
      "metadata": {
        "colab": {
          "base_uri": "https://localhost:8080/",
          "height": 295
        },
        "id": "QXNeL3DyfELm",
        "outputId": "ea27095e-9840-4b62-b491-43b3122159bb"
      },
      "execution_count": null,
      "outputs": [
        {
          "output_type": "display_data",
          "data": {
            "text/plain": [
              "<Figure size 432x288 with 1 Axes>"
            ],
            "image/png": "[encoded data removed]"
          },
          "metadata": {
            "needs_background": "light"
          }
        }
      ]
    },
    {
      "cell_type": "markdown",
      "source": [
        "\n",
        "\n",
        "##Ejercicio 5\n",
        "Correlación en pandas Pandas permite calcular la correlación de dos Series (columnas de un DataFrame). El cálculo se hace por pares, eliminando automáticamente aquellos con valores NA/null. Una limitación de Pandas es que no calcula la significancia estadística. (valor P) utilice la siguiente instrucción adaptándola a su trabajo y compruébela para los datos del ejercicio 3 y 4\n",
        "\n",
        "print('Correlación Pearson: ', datos['weight'].corr(datos['height'], method='pearson'))\n",
        "\n",
        "Analice los resultados."
      ],
      "metadata": {
        "id": "iZCDv1i57TeA"
      }
    },
    {
      "cell_type": "code",
      "source": [
        "print('Correlación Pearson: ', df['Peso'].corr(df['IMC'], method='pearson'))\n",
        "print('Correlación Pearson: ', df['P.S'].corr(df['P.D'], method='pearson'))"
      ],
      "metadata": {
        "colab": {
          "base_uri": "https://localhost:8080/"
        },
        "id": "7DrExNLOf2x6",
        "outputId": "50952a6d-ffca-40e4-c7f1-c817f92361a1"
      },
      "execution_count": null,
      "outputs": [
        {
          "output_type": "stream",
          "name": "stdout",
          "text": [
            "Correlación Pearson:  0.6441555180835516\n",
            "Correlación Pearson:  0.7963832659083903\n"
          ]
        }
      ]
    },
    {
      "cell_type": "code",
      "source": [],
      "metadata": {
        "id": "KLdTZaMaC_ig",
        "colab": {
          "base_uri": "https://localhost:8080/"
        },
        "outputId": "2da7072b-1f02-4f7f-87bd-d32c2d94a07b"
      },
      "execution_count": null,
      "outputs": [
        {
          "output_type": "stream",
          "name": "stdout",
          "text": [
            "Correlación Pearson:  0.6441555180835516\n",
            "Correlación Pearson:  0.039321759905829035\n"
          ]
        }
      ]
    }
  ]
}