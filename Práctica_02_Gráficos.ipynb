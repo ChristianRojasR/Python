{
  "nbformat": 4,
  "nbformat_minor": 0,
  "metadata": {
    "colab": {
      "provenance": [],
      "include_colab_link": true
    },
    "kernelspec": {
      "name": "python3",
      "display_name": "Python 3"
    },
    "language_info": {
      "name": "python"
    }
  },
  "cells": [
    {
      "cell_type": "markdown",
      "metadata": {
        "id": "view-in-github",
        "colab_type": "text"
      },
      "source": [
        "<a href=\"https://colab.research.google.com/github/ChristianRojasR/Python/blob/main/Pr%C3%A1ctica_02_Gr%C3%A1ficos.ipynb\" target=\"_parent\"><img src=\"https://colab.research.google.com/assets/colab-badge.svg\" alt=\"Open In Colab\"/></a>"
      ]
    },
    {
      "cell_type": "markdown",
      "source": [
        "# <img src=\"https://cdn3.iconfinder.com/data/icons/business-intelligence-color/64/visualization-computer-graph-report-business-software-512.png\" width=\"40\" height=\"40\"> **Práctica 2: Gráficos** <img src=\"https://cdn3.iconfinder.com/data/icons/business-intelligence-color/64/visualization-computer-graph-report-business-software-512.png\"  width=\"40\" height=\"40\">\n"
      ],
      "metadata": {
        "id": "RD1Xliu9Iq6y"
      }
    },
    {
      "cell_type": "markdown",
      "source": [
        "**Importante:** Hacer una copia en su drive antes de comenzar.\n"
      ],
      "metadata": {
        "id": "WzdsidA5JMnl"
      }
    },
    {
      "cell_type": "markdown",
      "source": [
        "Gráficos Matplotlib\n",
        "\n",
        "https://matplotlib.org/stable/api/_as_gen/matplotlib.pyplot.hist.html \n"
      ],
      "metadata": {
        "id": "OJGdcyVbm23H"
      }
    },
    {
      "cell_type": "code",
      "source": [
        "import matplotlib.pyplot as plt\n",
        "import numpy as np"
      ],
      "metadata": {
        "id": "ieQ3-I3OSPdo"
      },
      "execution_count": null,
      "outputs": []
    },
    {
      "cell_type": "markdown",
      "source": [
        "#Ejercicio 1: Gráficos de Barras"
      ],
      "metadata": {
        "id": "QeBmbkrWITI9"
      }
    },
    {
      "cell_type": "markdown",
      "source": [
        "Dibujar un Gráficos de Barras con los siguiente\n",
        "\n",
        "\n",
        "|Frutas\t|Cantidades|\n",
        "|-------------|------------|\n",
        "|Manzana  |40|\n",
        "|Arándano\t|100|\n",
        "|Kiwi     |30|\n",
        "|Naranja\t|55|\n",
        "|Total\t |225|\n",
        "\n",
        "\n"
      ],
      "metadata": {
        "id": "MBx8FOp7ITI_"
      }
    },
    {
      "cell_type": "code",
      "source": [
        "frutas = ['Manzana', 'Arandado', 'Kiwi', 'Naranja']\n",
        "cantidades = [40, 100, 30, 55]\n",
        "\n",
        "colores = ['tab:red', 'tab:blue', 'tab:green', 'tab:orange']\n",
        "plt.barh(frutas, cantidades, color=colores)\n",
        "plt.xlabel('Cantidad')\n",
        "#.barh es horizontal y .bar son las barras verticales\n",
        "plt.show()"
      ],
      "metadata": {
        "colab": {
          "base_uri": "https://localhost:8080/",
          "height": 279
        },
        "id": "-c_3fPpoIxIJ",
        "outputId": "aedaf9bc-968e-4874-892a-17eeb09ad53d"
      },
      "execution_count": null,
      "outputs": [
        {
          "output_type": "display_data",
          "data": {
            "text/plain": [
              "<Figure size 432x288 with 1 Axes>"
            ],
            "image/png": "[encoded data removed]"
          },
          "metadata": {
            "needs_background": "light"
          }
        }
      ]
    },
    {
      "cell_type": "markdown",
      "source": [
        "#Ejercicio 2: Histograma"
      ],
      "metadata": {
        "id": "GVuAZ1wYoLiP"
      }
    },
    {
      "cell_type": "markdown",
      "source": [
        "##Histograma a partir de datos\n",
        "\n",
        "Dibujar un histograma de los datos que se muestran a continuación, considerando intervalos de longitud 25.\n",
        "\n",
        "```\n",
        "[22, 87, 5, 43, 56, 73, 55, 54, 11, 20, 51, 5, 79, 31, 27]\n",
        "```\n",
        "\n",
        "\n"
      ],
      "metadata": {
        "id": "c1QN6n-NapaS"
      }
    },
    {
      "cell_type": "code",
      "source": [
        "datos = [22, 87, 5, 43, 56, 73, 55, 54, 11, 20, 51, 5, 79, 31, 27]\n",
        "intervalos = np.arange(0, 101, 25)\n",
        "plt.hist(datos, np.arange(0, 101, 25))\n",
        "plt.show()"
      ],
      "metadata": {
        "colab": {
          "base_uri": "https://localhost:8080/",
          "height": 265
        },
        "id": "-UXxxv3ZGVRC",
        "outputId": "351d00af-4184-4f26-920c-2dc090f2b423"
      },
      "execution_count": null,
      "outputs": [
        {
          "output_type": "display_data",
          "data": {
            "text/plain": [
              "<Figure size 432x288 with 1 Axes>"
            ],
            "image/png": "[encoded data removed]"
          },
          "metadata": {
            "needs_background": "light"
          }
        }
      ]
    },
    {
      "cell_type": "markdown",
      "source": [
        "Podemos cambiar los colores:"
      ],
      "metadata": {
        "id": "1G6c5HIOQhTc"
      }
    },
    {
      "cell_type": "code",
      "source": [
        "plt.hist(datos, intervalos, color='tab:red')\n",
        "plt.show()"
      ],
      "metadata": {
        "colab": {
          "base_uri": "https://localhost:8080/",
          "height": 265
        },
        "id": "ouuBQgFoKnWg",
        "outputId": "f0e99c60-5c43-4cb3-b136-be73e38231ea"
      },
      "execution_count": null,
      "outputs": [
        {
          "output_type": "display_data",
          "data": {
            "text/plain": [
              "<Figure size 432x288 with 1 Axes>"
            ],
            "image/png": "[encoded data removed]"
          },
          "metadata": {
            "needs_background": "light"
          }
        }
      ]
    },
    {
      "cell_type": "markdown",
      "source": [
        "Podriamos crear una funcion que sea dibujar_histograma si la vamos a utilizar muchas veces.\n",
        "\n",
        "\n",
        "\n",
        "```\n",
        "def graficar_histograma(datos,intervalo):\n",
        "  \n",
        "  plt.show()\n",
        "```\n",
        "\n"
      ],
      "metadata": {
        "id": "8JzsaGiqK6Xn"
      }
    },
    {
      "cell_type": "code",
      "source": [
        "def graficar_histograma(datos, intervalo, color='tab:green'):\n",
        "  plt.hist(datos, intervalos, color=color)\n",
        "  plt.show()\n",
        "\n",
        "graficar_histograma(datos, intervalos, 'tab:orange')"
      ],
      "metadata": {
        "id": "Zkcz__hkLHHU",
        "colab": {
          "base_uri": "https://localhost:8080/",
          "height": 265
        },
        "outputId": "a81a94f8-ae2a-4b36-dcce-b29fde510152"
      },
      "execution_count": null,
      "outputs": [
        {
          "output_type": "display_data",
          "data": {
            "text/plain": [
              "<Figure size 432x288 with 1 Axes>"
            ],
            "image/png": "[encoded data removed]"
          },
          "metadata": {
            "needs_background": "light"
          }
        }
      ]
    },
    {
      "cell_type": "markdown",
      "source": [
        "## Histograma con puntos al azar\n",
        "\n",
        "Generar 10000 puntos al azar y graficarlos en un histograma de 20 bins.\n",
        "\n",
        "**Ayuda**\n",
        "\n",
        "https://numpy.org/doc/stable/reference/random/generated/numpy.random.randn.html\n",
        "\n",
        "\n",
        "\n",
        "Utilizar las siguientes funciones de la libreria Numpy para generar arreglos de numeros aleatorios:\n",
        "* np.random.seed(numero_semilla)\n",
        "* np.random.randn(cantNumeros)\n",
        "\n",
        "\n",
        "\n",
        "\n",
        "```\n",
        "import numpy as np\n",
        "\n",
        "np.random.seed(4)\n",
        "np.random.randn(10)\n",
        "```\n",
        "\n",
        "\n",
        "\n"
      ],
      "metadata": {
        "id": "WitjNde6pvzR"
      }
    },
    {
      "cell_type": "code",
      "source": [
        "np.random.seed(4)\n",
        "dato = np.random.randn(10000)\n",
        "print(dato)"
      ],
      "metadata": {
        "colab": {
          "base_uri": "https://localhost:8080/"
        },
        "id": "0rNt4ZuMHdDP",
        "outputId": "9501578a-1884-47a0-deca-877933380a2b"
      },
      "execution_count": null,
      "outputs": [
        {
          "output_type": "stream",
          "name": "stdout",
          "text": [
            "[ 0.05056171  0.49995133 -0.99590893 ...  0.74738207  1.22466686\n",
            " -0.27774797]\n"
          ]
        }
      ]
    },
    {
      "cell_type": "code",
      "source": [
        "plt.hist(dato, bins=15)\n",
        "plt.show()"
      ],
      "metadata": {
        "colab": {
          "base_uri": "https://localhost:8080/",
          "height": 265
        },
        "id": "EMjaV8lcOK94",
        "outputId": "bc662290-b0e4-45eb-cd02-30c87412c2b1"
      },
      "execution_count": null,
      "outputs": [
        {
          "output_type": "display_data",
          "data": {
            "text/plain": [
              "<Figure size 432x288 with 1 Axes>"
            ],
            "image/png": "[encoded data removed]"
          },
          "metadata": {
            "needs_background": "light"
          }
        }
      ]
    },
    {
      "cell_type": "code",
      "source": [
        "plt.hist(dato, bins=20, linewidth=1, rwidth=0.9, color='tab:green')\n",
        "plt.show()"
      ],
      "metadata": {
        "colab": {
          "base_uri": "https://localhost:8080/",
          "height": 265
        },
        "id": "w_0q5U9ILL0I",
        "outputId": "8d4dd8ca-fcb3-4af4-fbf3-a79427e17436"
      },
      "execution_count": null,
      "outputs": [
        {
          "output_type": "display_data",
          "data": {
            "text/plain": [
              "<Figure size 432x288 with 1 Axes>"
            ],
            "image/png": "[encoded data removed]"
          },
          "metadata": {
            "needs_background": "light"
          }
        }
      ]
    },
    {
      "cell_type": "markdown",
      "source": [
        "## Agregamos Titulos al Histograma\n",
        "\n",
        "Personalizar el histograma para ponerle nombre a los ejes \"x\",\"y\" y un titilo.\n",
        " "
      ],
      "metadata": {
        "id": "Ld1EQ7-mzD5R"
      }
    },
    {
      "cell_type": "code",
      "source": [
        "plt.hist(dato, bins=20, linewidth=1, rwidth=0.9, color='tab:green')\n",
        "plt.xlabel('Eje x')\n",
        "plt.ylabel('Eje y')\n",
        "plt.title('Mi grafico')\n",
        "plt.show()"
      ],
      "metadata": {
        "id": "bOAhXnN-TIbO",
        "colab": {
          "base_uri": "https://localhost:8080/",
          "height": 295
        },
        "outputId": "2be4c785-fa4c-4fcc-a1e8-1c6e855dcac9"
      },
      "execution_count": null,
      "outputs": [
        {
          "output_type": "display_data",
          "data": {
            "text/plain": [
              "<Figure size 432x288 with 1 Axes>"
            ],
            "image/png": "[encoded data removed]"
          },
          "metadata": {
            "needs_background": "light"
          }
        }
      ]
    },
    {
      "cell_type": "code",
      "source": [
        "plt.xlabel('Eje x')\n",
        "plt.ylabel('Eje y')\n",
        "plt.title('Mi grafico')\n",
        "plt.show()"
      ],
      "metadata": {
        "colab": {
          "base_uri": "https://localhost:8080/",
          "height": 295
        },
        "id": "vtlOydgaLSdh",
        "outputId": "8485cdce-936d-43ef-a1ba-71f45ac94865"
      },
      "execution_count": null,
      "outputs": [
        {
          "output_type": "display_data",
          "data": {
            "text/plain": [
              "<Figure size 432x288 with 1 Axes>"
            ],
            "image/png": "[encoded data removed]"
          },
          "metadata": {
            "needs_background": "light"
          }
        }
      ]
    },
    {
      "cell_type": "markdown",
      "source": [
        "## Histograma de una *distribucion normal*\n",
        "\n",
        "Hacer un histograma de un arreglo generado a partir de una *distribucion normal*, utilizando el siguiente codigo:\n",
        "\n",
        "`np.random.normal(100, 2, 200)`\n",
        "\n",
        "\n",
        "\n",
        "**Observacion**: No analiazaremos formalmente que significa, solo nos interesa graficarla y ver que forma tiene."
      ],
      "metadata": {
        "id": "sDp2FNb7-oGe"
      }
    },
    {
      "cell_type": "code",
      "source": [
        "plt.hist(np.random.normal(100, 2, 200), bins=15)\n",
        "plt.show()"
      ],
      "metadata": {
        "colab": {
          "base_uri": "https://localhost:8080/",
          "height": 265
        },
        "id": "svxiFCBF-psq",
        "outputId": "2dd5a1c3-aeca-4ef0-dc95-d9dc76cc7548"
      },
      "execution_count": null,
      "outputs": [
        {
          "output_type": "display_data",
          "data": {
            "text/plain": [
              "<Figure size 432x288 with 1 Axes>"
            ],
            "image/png": "[encoded data removed]"
          },
          "metadata": {
            "needs_background": "light"
          }
        }
      ]
    },
    {
      "cell_type": "markdown",
      "source": [
        "#Ejercicio 3: Grafico de Torta\n",
        "\n",
        "A continuacion se muestra el codigo para realizar el grafico de torta de los datos del Ejercicio 1\n",
        "\n",
        "\n",
        "\n",
        "\n"
      ],
      "metadata": {
        "id": "tfCXlkeh8EsI"
      }
    },
    {
      "cell_type": "code",
      "source": [
        "frutas = ['Manzana', 'Arandado', 'Kiwi', 'Naranja']\n",
        "cantidades = [40, 100, 30, 55]\n",
        "#destaca un parametro\n",
        "explode = (0, 0, 0.1, 0)\n",
        "\n",
        "colores = ['tab:red', 'tab:blue', 'tab:green', 'tab:orange']\n",
        "\n",
        "plt.pie(cantidades, labels=frutas, colors=colores, autopct='%.2f%%', explode=explode)\n",
        "plt.show()"
      ],
      "metadata": {
        "colab": {
          "base_uri": "https://localhost:8080/",
          "height": 248
        },
        "id": "pTa_XfwpXctJ",
        "outputId": "cab16d7f-9bc9-4f77-9952-d3a016fa4f2f"
      },
      "execution_count": null,
      "outputs": [
        {
          "output_type": "display_data",
          "data": {
            "text/plain": [
              "<Figure size 432x288 with 1 Axes>"
            ],
            "image/png": "[encoded data removed]"
          },
          "metadata": {}
        }
      ]
    },
    {
      "cell_type": "markdown",
      "source": [
        "Realizar un grafico de torta a partir de las siguiente tabla:\n",
        "\n",
        "|Nombre\t|Manzanas|\n",
        "|-------------------|-------------------|\n",
        "|Pepe |23|\n",
        "|Josefa\t|10|\n",
        "|Juan\t|25|\n",
        "|Ana\t|32|\n",
        "|Total\t|90|\n",
        "\n"
      ],
      "metadata": {
        "id": "XWxIwfeRYL78"
      }
    },
    {
      "cell_type": "code",
      "source": [
        "nombres = ['Pepe', 'Josefa', 'Juan', 'Ana']\n",
        "manzanas = [23, 10, 25, 32]\n",
        "\n",
        "plt.pie(manzanas, labels=nombres, autopct='%.2f%%')\n",
        "plt.show()"
      ],
      "metadata": {
        "colab": {
          "base_uri": "https://localhost:8080/",
          "height": 248
        },
        "id": "ZPhTVdmgKbsO",
        "outputId": "07cf3495-0ad4-4c6f-d29f-a9121b994493"
      },
      "execution_count": null,
      "outputs": [
        {
          "output_type": "display_data",
          "data": {
            "text/plain": [
              "<Figure size 432x288 with 1 Axes>"
            ],
            "image/png": "[encoded data removed]"
          },
          "metadata": {}
        }
      ]
    },
    {
      "cell_type": "markdown",
      "source": [
        "Cambiarle los colores al grafico, usando los siguientes colores:\n",
        "\n",
        "\n",
        "```\n",
        "colores = [\"#EE6055\",\"#60D394\",\"#AAF683\",\"#FFD97D\",\"#FF9B85\"]\n",
        "```\n",
        "\n"
      ],
      "metadata": {
        "id": "xyYR7qnBLN6X"
      }
    },
    {
      "cell_type": "code",
      "source": [
        "colores = [\"#EE6055\",\"#60D394\",\"#AAF683\",\"#FFD97D\",\"#FF9B85\"]\n",
        "\n",
        "plt.pie(manzanas, labels=nombres, colors=colores, autopct='%.2f%%')\n",
        "plt.show()"
      ],
      "metadata": {
        "colab": {
          "base_uri": "https://localhost:8080/",
          "height": 248
        },
        "id": "n75WCFpiLQuz",
        "outputId": "eb4ad5d6-4f62-4498-a05a-2ee384468ef9"
      },
      "execution_count": null,
      "outputs": [
        {
          "output_type": "display_data",
          "data": {
            "text/plain": [
              "<Figure size 432x288 with 1 Axes>"
            ],
            "image/png": "[encoded data removed]"
          },
          "metadata": {}
        }
      ]
    },
    {
      "cell_type": "markdown",
      "source": [
        "Crear una funcion que muestra un grafico de torta:\n",
        "\n",
        "\n",
        "\n",
        "```\n",
        "def grafico_de_torta\n",
        "```\n",
        "\n"
      ],
      "metadata": {
        "id": "stXCDAmYMhWD"
      }
    },
    {
      "cell_type": "code",
      "source": [
        "def graficar_de_torta(datos, nombres):\n",
        "  plt.pie(datos, labels=nombres, autopct='%.2f%%')\n",
        "  plt.show()"
      ],
      "metadata": {
        "id": "gyDKjgYLMLgk"
      },
      "execution_count": null,
      "outputs": []
    },
    {
      "cell_type": "code",
      "source": [
        "graficar_de_torta([1, 2, 3, 4, 5], ['1', '2', '3', '4', '5'])"
      ],
      "metadata": {
        "colab": {
          "base_uri": "https://localhost:8080/",
          "height": 248
        },
        "id": "dxRBf_sHMx_W",
        "outputId": "fc653a38-45e6-4649-e9f7-6319719869d5"
      },
      "execution_count": null,
      "outputs": [
        {
          "output_type": "display_data",
          "data": {
            "text/plain": [
              "<Figure size 432x288 with 1 Axes>"
            ],
            "image/png": "[encoded data removed]"
          },
          "metadata": {}
        }
      ]
    },
    {
      "cell_type": "markdown",
      "source": [
        "#Ejercicio 4: Boxplot\n",
        "\n"
      ],
      "metadata": {
        "id": "BNgiTavc9wXE"
      }
    },
    {
      "cell_type": "markdown",
      "source": [
        "##Boxplot a partir de datos\n",
        "Realizar un box plot a partir del siguiente dataset [35, 25, 25, 15]"
      ],
      "metadata": {
        "id": "OZNFDSsQaSx7"
      }
    },
    {
      "cell_type": "code",
      "source": [
        "datos =  [35, 25, 25, 15]\n",
        "\n",
        "plt.boxplot(datos)\n",
        "plt.show()"
      ],
      "metadata": {
        "colab": {
          "base_uri": "https://localhost:8080/",
          "height": 265
        },
        "id": "brJsWIQv-OBC",
        "outputId": "ae4578b9-0c51-4812-93d4-2e8321358603"
      },
      "execution_count": null,
      "outputs": [
        {
          "output_type": "display_data",
          "data": {
            "text/plain": [
              "<Figure size 432x288 with 1 Axes>"
            ],
            "image/png": "[encoded data removed]"
          },
          "metadata": {
            "needs_background": "light"
          }
        }
      ]
    },
    {
      "cell_type": "markdown",
      "source": [
        "##Boxplot a partir de una distribucion normal\n",
        "\n",
        "\n",
        "Realizar un box plot a partir de una distribucion normal. No analiazaremos formalmente que significa, solo nos interesa graficarla y ver que forma tiene."
      ],
      "metadata": {
        "id": "WlmHg7NFDrql"
      }
    },
    {
      "cell_type": "code",
      "source": [
        "datos = np.random.normal(100, 2, 200)\n",
        "\n",
        "fig = plt.figure(figsize=(4, 8))\n",
        "plt.boxplot(datos)\n",
        "plt.title('BOXPLOT RANDOM')\n",
        "plt.show()"
      ],
      "metadata": {
        "colab": {
          "base_uri": "https://localhost:8080/",
          "height": 499
        },
        "id": "DcGV6NSQa-fq",
        "outputId": "2b8c3a5c-f599-42c8-d8d9-1944e7b331c9"
      },
      "execution_count": null,
      "outputs": [
        {
          "output_type": "display_data",
          "data": {
            "text/plain": [
              "<Figure size 288x576 with 1 Axes>"
            ],
            "image/png": "[encoded data removed]"
          },
          "metadata": {
            "needs_background": "light"
          }
        }
      ]
    },
    {
      "cell_type": "markdown",
      "source": [
        "## Comparacion de 2 boxplot \n",
        "\n",
        "\n",
        "\n",
        "**Ayuda**: \n",
        "\n",
        "usar numpy.random.normal(100, 2, 200) para media 100 y varianza 2\n",
        "usar numpy.random.normal(100, 0.1, 200) para media 100 y varianza 0\n",
        "\n",
        "Comentar las diferencias"
      ],
      "metadata": {
        "id": "eqQNQaP0-rCj"
      }
    },
    {
      "cell_type": "code",
      "source": [
        "df_1 = np.random.normal(100, 2, 200)\n",
        "df_2 = np.random.normal(100, 0.9, 200)"
      ],
      "metadata": {
        "id": "qBEBYm1xO1CT"
      },
      "execution_count": null,
      "outputs": []
    },
    {
      "cell_type": "code",
      "source": [
        "fig = plt.figure(figsize=(6,4))\n",
        "boxplot_all = [df_1, df_2]\n",
        "plt.boxplot(boxplot_all)\n",
        "plt.title('Boxplot 1')\n",
        "plt.show()"
      ],
      "metadata": {
        "colab": {
          "base_uri": "https://localhost:8080/",
          "height": 281
        },
        "id": "gMhf78zB-snv",
        "outputId": "f164b8bb-4afc-4185-8de9-5c58d708547b"
      },
      "execution_count": null,
      "outputs": [
        {
          "output_type": "display_data",
          "data": {
            "text/plain": [
              "<Figure size 432x288 with 1 Axes>"
            ],
            "image/png": "[encoded data removed]"
          },
          "metadata": {
            "needs_background": "light"
          }
        }
      ]
    },
    {
      "cell_type": "code",
      "source": [
        "plt.boxplot(df_2)\n",
        "plt.title('Boxplot 2')\n",
        "plt.show()"
      ],
      "metadata": {
        "id": "mOc6mr9ybe4f",
        "colab": {
          "base_uri": "https://localhost:8080/",
          "height": 281
        },
        "outputId": "26421c9c-9ac4-4c8c-eadb-7da315e16a73"
      },
      "execution_count": null,
      "outputs": [
        {
          "output_type": "display_data",
          "data": {
            "text/plain": [
              "<Figure size 432x288 with 1 Axes>"
            ],
            "image/png": "[encoded data removed]"
          },
          "metadata": {
            "needs_background": "light"
          }
        }
      ]
    }
  ]
}