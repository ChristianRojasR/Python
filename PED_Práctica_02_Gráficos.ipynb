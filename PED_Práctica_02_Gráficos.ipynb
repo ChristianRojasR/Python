{
  "nbformat": 4,
  "nbformat_minor": 0,
  "metadata": {
    "colab": {
      "provenance": [],
      "include_colab_link": true
    },
    "kernelspec": {
      "name": "python3",
      "display_name": "Python 3"
    },
    "language_info": {
      "name": "python"
    }
  },
  "cells": [
    {
      "cell_type": "markdown",
      "metadata": {
        "id": "view-in-github",
        "colab_type": "text"
      },
      "source": [
        "<a href=\"https://colab.research.google.com/github/ChristianRojasR/Python/blob/main/PED_Pr%C3%A1ctica_02_Gr%C3%A1ficos.ipynb\" target=\"_parent\"><img src=\"https://colab.research.google.com/assets/colab-badge.svg\" alt=\"Open In Colab\"/></a>"
      ]
    },
    {
      "cell_type": "markdown",
      "source": [
        "# <img src=\"https://cdn3.iconfinder.com/data/icons/business-intelligence-color/64/visualization-computer-graph-report-business-software-512.png\" width=\"40\" height=\"40\"> **Práctica 2: Gráficos** <img src=\"https://cdn3.iconfinder.com/data/icons/business-intelligence-color/64/visualization-computer-graph-report-business-software-512.png\"  width=\"40\" height=\"40\">\n"
      ],
      "metadata": {
        "id": "RD1Xliu9Iq6y"
      }
    },
    {
      "cell_type": "markdown",
      "source": [
        "**Importante:** Hacer una copia en su drive antes de comenzar.\n"
      ],
      "metadata": {
        "id": "WzdsidA5JMnl"
      }
    },
    {
      "cell_type": "markdown",
      "source": [
        "Gráficos Matplotlib\n",
        "\n",
        "https://matplotlib.org/stable/api/_as_gen/matplotlib.pyplot.hist.html \n"
      ],
      "metadata": {
        "id": "OJGdcyVbm23H"
      }
    },
    {
      "cell_type": "code",
      "source": [],
      "metadata": {
        "id": "ieQ3-I3OSPdo"
      },
      "execution_count": null,
      "outputs": []
    },
    {
      "cell_type": "markdown",
      "source": [
        "#Ejercicio 1: Gráficos de Barras"
      ],
      "metadata": {
        "id": "QeBmbkrWITI9"
      }
    },
    {
      "cell_type": "markdown",
      "source": [
        "Dibujar un Gráficos de Barras con los siguiente\n",
        "\n",
        "\n",
        "|Frutas\t|Cantidades|\n",
        "|-------------|------------|\n",
        "|Manzana  |40|\n",
        "|Arándano\t|100|\n",
        "|Kiwi     |30|\n",
        "|Naranja\t|55|\n",
        "|Total\t |225|\n",
        "\n",
        "\n"
      ],
      "metadata": {
        "id": "MBx8FOp7ITI_"
      }
    },
    {
      "cell_type": "code",
      "source": [],
      "metadata": {
        "colab": {
          "base_uri": "https://localhost:8080/",
          "height": 281
        },
        "id": "-c_3fPpoIxIJ",
        "outputId": "71b56584-7675-4bae-ebe2-a8b1e3647dee"
      },
      "execution_count": null,
      "outputs": [
        {
          "output_type": "display_data",
          "data": {
            "text/plain": [
              "<Figure size 432x288 with 1 Axes>"
            ],
            "image/png": "[encoded data removed]"
          },
          "metadata": {
            "needs_background": "light"
          }
        }
      ]
    },
    {
      "cell_type": "markdown",
      "source": [
        "#Ejercicio 2: Histograma"
      ],
      "metadata": {
        "id": "GVuAZ1wYoLiP"
      }
    },
    {
      "cell_type": "markdown",
      "source": [
        "##Histograma a partir de datos\n",
        "\n",
        "Dibujar un histograma de los datos que se muestran a continuación, considerando intervalos de longitud 25.\n",
        "\n",
        "```\n",
        "[22, 87, 5, 43, 56, 73, 55, 54, 11, 20, 51, 5, 79, 31, 27]\n",
        "```\n",
        "\n",
        "\n"
      ],
      "metadata": {
        "id": "c1QN6n-NapaS"
      }
    },
    {
      "cell_type": "code",
      "source": [],
      "metadata": {
        "colab": {
          "base_uri": "https://localhost:8080/",
          "height": 320
        },
        "id": "-UXxxv3ZGVRC",
        "outputId": "be8b0761-382c-46df-a208-90a4ac0f9169"
      },
      "execution_count": null,
      "outputs": [
        {
          "output_type": "display_data",
          "data": {
            "text/plain": [
              "<Figure size 360x360 with 1 Axes>"
            ],
            "image/png": "[encoded data removed]"
          },
          "metadata": {
            "needs_background": "light"
          }
        }
      ]
    },
    {
      "cell_type": "markdown",
      "source": [
        "Podemos cambiar los colores:"
      ],
      "metadata": {
        "id": "1G6c5HIOQhTc"
      }
    },
    {
      "cell_type": "code",
      "source": [],
      "metadata": {
        "colab": {
          "base_uri": "https://localhost:8080/",
          "height": 265
        },
        "id": "ouuBQgFoKnWg",
        "outputId": "2a56cee6-7994-4ead-d267-3eb9e88957f0"
      },
      "execution_count": null,
      "outputs": [
        {
          "output_type": "display_data",
          "data": {
            "text/plain": [
              "<Figure size 432x288 with 1 Axes>"
            ],
            "image/png": "[encoded data removed]"
          },
          "metadata": {
            "needs_background": "light"
          }
        }
      ]
    },
    {
      "cell_type": "markdown",
      "source": [
        "Podriamos crear una funcion que sea dibujar_histograma si la vamos a utilizar muchas veces.\n",
        "\n",
        "\n",
        "\n",
        "```\n",
        "def graficar_histograma(datos,intervalo):\n",
        "  \n",
        "  plt.show()\n",
        "```\n",
        "\n"
      ],
      "metadata": {
        "id": "8JzsaGiqK6Xn"
      }
    },
    {
      "cell_type": "code",
      "source": [
        "def graficar_histograma(datos,intervalo):\n",
        "  pass"
      ],
      "metadata": {
        "id": "Zkcz__hkLHHU"
      },
      "execution_count": null,
      "outputs": []
    },
    {
      "cell_type": "markdown",
      "source": [
        "## Histograma con puntos al azar\n",
        "\n",
        "Generar 10000 puntos al azar y graficarlos en un histograma de 20 bins.\n",
        "\n",
        "**Ayuda**\n",
        "\n",
        "https://numpy.org/doc/stable/reference/random/generated/numpy.random.randn.html\n",
        "\n",
        "\n",
        "\n",
        "Utilizar las siguientes funciones de la libreria Numpy para generar arreglos de numeros aleatorios:\n",
        "* np.random.seed(numero_semilla)\n",
        "* np.random.randn(cantNumeros)\n",
        "\n",
        "\n",
        "\n",
        "\n",
        "```\n",
        "import numpy as np\n",
        "\n",
        "np.random.seed(4)\n",
        "np.random.randn(10)\n",
        "```\n",
        "\n",
        "\n",
        "\n"
      ],
      "metadata": {
        "id": "WitjNde6pvzR"
      }
    },
    {
      "cell_type": "code",
      "source": [],
      "metadata": {
        "colab": {
          "base_uri": "https://localhost:8080/"
        },
        "id": "0rNt4ZuMHdDP",
        "outputId": "45fc25ff-3d38-45f8-d376-b9133b41ab95"
      },
      "execution_count": null,
      "outputs": [
        {
          "output_type": "execute_result",
          "data": {
            "text/plain": [
              "array([ 0.05056171,  0.49995133, -0.99590893,  0.69359851, -0.41830152,\n",
              "       -1.58457724, -0.64770677,  0.59857517,  0.33225003, -1.14747663])"
            ]
          },
          "metadata": {},
          "execution_count": 46
        }
      ]
    },
    {
      "cell_type": "code",
      "source": [],
      "metadata": {
        "colab": {
          "base_uri": "https://localhost:8080/",
          "height": 265
        },
        "id": "w_0q5U9ILL0I",
        "outputId": "f05d8b8c-f088-4b72-e79f-ede290c01d28"
      },
      "execution_count": null,
      "outputs": [
        {
          "output_type": "display_data",
          "data": {
            "text/plain": [
              "<Figure size 432x288 with 1 Axes>"
            ],
            "image/png": "[encoded data removed]"
          },
          "metadata": {
            "needs_background": "light"
          }
        }
      ]
    },
    {
      "cell_type": "markdown",
      "source": [
        "## Agregamos Titulos al Histograma\n",
        "\n",
        "Personalizar el histograma para ponerle nombre a los ejes \"x\",\"y\" y un titilo.\n",
        " "
      ],
      "metadata": {
        "id": "Ld1EQ7-mzD5R"
      }
    },
    {
      "cell_type": "code",
      "source": [],
      "metadata": {
        "id": "bOAhXnN-TIbO"
      },
      "execution_count": null,
      "outputs": []
    },
    {
      "cell_type": "code",
      "source": [],
      "metadata": {
        "colab": {
          "base_uri": "https://localhost:8080/",
          "height": 295
        },
        "id": "vtlOydgaLSdh",
        "outputId": "60a274c0-6a36-4c32-ed5d-6e88adcbf50f"
      },
      "execution_count": null,
      "outputs": [
        {
          "output_type": "display_data",
          "data": {
            "text/plain": [
              "<Figure size 432x288 with 1 Axes>"
            ],
            "image/png": "[encoded data removed]"
          },
          "metadata": {
            "needs_background": "light"
          }
        }
      ]
    },
    {
      "cell_type": "markdown",
      "source": [
        "## Histograma de una *distribucion normal*\n",
        "\n",
        "Hacer un histograma de un arreglo generado a partir de una *distribucion normal*, utilizando el siguiente codigo:\n",
        "\n",
        "`np.random.normal(100, 2, 200)`\n",
        "\n",
        "\n",
        "\n",
        "**Observacion**: No analiazaremos formalmente que significa, solo nos interesa graficarla y ver que forma tiene."
      ],
      "metadata": {
        "id": "sDp2FNb7-oGe"
      }
    },
    {
      "cell_type": "code",
      "source": [],
      "metadata": {
        "colab": {
          "base_uri": "https://localhost:8080/",
          "height": 265
        },
        "id": "svxiFCBF-psq",
        "outputId": "8ca35564-c457-4ea9-ed23-6bc8b39e0c48"
      },
      "execution_count": null,
      "outputs": [
        {
          "output_type": "display_data",
          "data": {
            "text/plain": [
              "<Figure size 360x288 with 1 Axes>"
            ],
            "image/png": "[encoded data removed]"
          },
          "metadata": {
            "needs_background": "light"
          }
        }
      ]
    },
    {
      "cell_type": "markdown",
      "source": [
        "#Ejercicio 3: Grafico de Torta\n",
        "\n",
        "A continuacion se muestra el codigo para realizar el grafico de torta de los datos del Ejercicio 1\n",
        "\n",
        "\n",
        "\n",
        "\n"
      ],
      "metadata": {
        "id": "tfCXlkeh8EsI"
      }
    },
    {
      "cell_type": "code",
      "source": [],
      "metadata": {
        "colab": {
          "base_uri": "https://localhost:8080/",
          "height": 248
        },
        "id": "pTa_XfwpXctJ",
        "outputId": "7ce34df0-53ac-49b7-f036-df75a6b4a7f6"
      },
      "execution_count": null,
      "outputs": [
        {
          "output_type": "display_data",
          "data": {
            "text/plain": [
              "<Figure size 432x288 with 1 Axes>"
            ],
            "image/png": "[encoded data removed]"
          },
          "metadata": {}
        }
      ]
    },
    {
      "cell_type": "markdown",
      "source": [
        "Realizar un grafico de torta a partir de las siguiente tabla:\n",
        "\n",
        "|Nombre\t|Manzanas|\n",
        "|-------------------|-------------------|\n",
        "|Pepe |23|\n",
        "|Josefa\t|10|\n",
        "|Juan\t|25|\n",
        "|Ana\t|32|\n",
        "|Total\t|90|\n",
        "\n"
      ],
      "metadata": {
        "id": "XWxIwfeRYL78"
      }
    },
    {
      "cell_type": "code",
      "source": [],
      "metadata": {
        "colab": {
          "base_uri": "https://localhost:8080/",
          "height": 248
        },
        "id": "ZPhTVdmgKbsO",
        "outputId": "03e839f5-2d64-478f-b485-0dc829b9c5f0"
      },
      "execution_count": null,
      "outputs": [
        {
          "output_type": "display_data",
          "data": {
            "text/plain": [
              "<Figure size 432x288 with 1 Axes>"
            ],
            "image/png": "[encoded data removed]"
          },
          "metadata": {}
        }
      ]
    },
    {
      "cell_type": "markdown",
      "source": [
        "Cambiarle los colores al grafico, usando los siguientes colores:\n",
        "\n",
        "\n",
        "```\n",
        "colores = [\"#EE6055\",\"#60D394\",\"#AAF683\",\"#FFD97D\",\"#FF9B85\"]\n",
        "```\n",
        "\n"
      ],
      "metadata": {
        "id": "xyYR7qnBLN6X"
      }
    },
    {
      "cell_type": "code",
      "source": [
        "\n"
      ],
      "metadata": {
        "colab": {
          "base_uri": "https://localhost:8080/",
          "height": 248
        },
        "id": "n75WCFpiLQuz",
        "outputId": "159320f8-331b-4145-fcd2-329918e2c947"
      },
      "execution_count": null,
      "outputs": [
        {
          "output_type": "display_data",
          "data": {
            "text/plain": [
              "<Figure size 432x288 with 1 Axes>"
            ],
            "image/png": "[encoded data removed]"
          },
          "metadata": {}
        }
      ]
    },
    {
      "cell_type": "markdown",
      "source": [
        "Crear una funcion que muestra un grafico de torta:\n",
        "\n",
        "\n",
        "\n",
        "```\n",
        "def grafico_de_torta\n",
        "```\n",
        "\n"
      ],
      "metadata": {
        "id": "stXCDAmYMhWD"
      }
    },
    {
      "cell_type": "code",
      "source": [
        "\n"
      ],
      "metadata": {
        "id": "gyDKjgYLMLgk"
      },
      "execution_count": null,
      "outputs": []
    },
    {
      "cell_type": "code",
      "source": [],
      "metadata": {
        "colab": {
          "base_uri": "https://localhost:8080/",
          "height": 248
        },
        "id": "dxRBf_sHMx_W",
        "outputId": "39ac629c-f5c6-46d4-8105-5449cf5cae58"
      },
      "execution_count": null,
      "outputs": [
        {
          "output_type": "display_data",
          "data": {
            "text/plain": [
              "<Figure size 432x288 with 1 Axes>"
            ],
            "image/png": "[encoded data removed]"
          },
          "metadata": {}
        }
      ]
    },
    {
      "cell_type": "markdown",
      "source": [
        "#Ejercicio 4: Boxplot\n",
        "\n"
      ],
      "metadata": {
        "id": "BNgiTavc9wXE"
      }
    },
    {
      "cell_type": "markdown",
      "source": [
        "##Boxplot a partir de datos\n",
        "Realizar un box plot a partir del siguiente dataset [35, 25, 25, 15]"
      ],
      "metadata": {
        "id": "OZNFDSsQaSx7"
      }
    },
    {
      "cell_type": "code",
      "source": [
        "\n"
      ],
      "metadata": {
        "colab": {
          "base_uri": "https://localhost:8080/",
          "height": 265
        },
        "id": "brJsWIQv-OBC",
        "outputId": "b0b76882-88be-4d87-d4c6-122e2d7f7060"
      },
      "execution_count": null,
      "outputs": [
        {
          "output_type": "display_data",
          "data": {
            "text/plain": [
              "<Figure size 432x288 with 1 Axes>"
            ],
            "image/png": "[encoded data removed]"
          },
          "metadata": {
            "needs_background": "light"
          }
        }
      ]
    },
    {
      "cell_type": "markdown",
      "source": [
        "##Boxplot a partir de una distribucion normal\n",
        "\n",
        "\n",
        "Realizar un box plot a partir de una distribucion normal. No analiazaremos formalmente que significa, solo nos interesa graficarla y ver que forma tiene."
      ],
      "metadata": {
        "id": "WlmHg7NFDrql"
      }
    },
    {
      "cell_type": "code",
      "source": [
        "\n"
      ],
      "metadata": {
        "colab": {
          "base_uri": "https://localhost:8080/",
          "height": 265
        },
        "id": "DcGV6NSQa-fq",
        "outputId": "a92eec54-ea1d-4b9b-a61f-d01f55b4dd75"
      },
      "execution_count": null,
      "outputs": [
        {
          "output_type": "display_data",
          "data": {
            "text/plain": [
              "<Figure size 432x288 with 1 Axes>"
            ],
            "image/png": "[encoded data removed]"
          },
          "metadata": {
            "needs_background": "light"
          }
        }
      ]
    },
    {
      "cell_type": "markdown",
      "source": [
        "## Comparacion de 2 boxplot \n",
        "\n",
        "\n",
        "\n",
        "**Ayuda**: \n",
        "\n",
        "usar numpy.random.normal(100, 2, 200) para media 100 y varianza 2\n",
        "usar numpy.random.normal(100, 0.1, 200) para media 100 y varianza 0\n",
        "\n",
        "Comentar las diferencias"
      ],
      "metadata": {
        "id": "eqQNQaP0-rCj"
      }
    },
    {
      "cell_type": "code",
      "source": [
        "\n"
      ],
      "metadata": {
        "id": "qBEBYm1xO1CT"
      },
      "execution_count": null,
      "outputs": []
    },
    {
      "cell_type": "code",
      "source": [
        "\n"
      ],
      "metadata": {
        "colab": {
          "base_uri": "https://localhost:8080/",
          "height": 336
        },
        "id": "gMhf78zB-snv",
        "outputId": "8fc983c1-9d7f-4038-b64f-1af72e87a256"
      },
      "execution_count": null,
      "outputs": [
        {
          "output_type": "display_data",
          "data": {
            "text/plain": [
              "<Figure size 432x288 with 1 Axes>"
            ],
            "image/png": "[encoded data removed]"
          },
          "metadata": {
            "needs_background": "light"
          }
        }
      ]
    },
    {
      "cell_type": "code",
      "source": [],
      "metadata": {
        "id": "mOc6mr9ybe4f"
      },
      "execution_count": null,
      "outputs": []
    }
  ]
}