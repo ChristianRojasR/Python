{
  "nbformat": 4,
  "nbformat_minor": 0,
  "metadata": {
    "colab": {
      "provenance": [],
      "collapsed_sections": [],
      "include_colab_link": true
    },
    "kernelspec": {
      "name": "python3",
      "display_name": "Python 3"
    },
    "language_info": {
      "name": "python"
    },
    "gpuClass": "standard"
  },
  "cells": [
    {
      "cell_type": "markdown",
      "metadata": {
        "id": "view-in-github",
        "colab_type": "text"
      },
      "source": [
        "<a href=\"https://colab.research.google.com/github/ChristianRojasR/Python/blob/main/Pr%C3%A1ctica_01_Probabilidad_y_Estad%C3%ADstica_(Mia).ipynb\" target=\"_parent\"><img src=\"https://colab.research.google.com/assets/colab-badge.svg\" alt=\"Open In Colab\"/></a>"
      ]
    },
    {
      "cell_type": "markdown",
      "source": [
        "# <img src=\"https://cdn-icons-png.flaticon.com/512/2857/2857376.png\" width=\"50\" height=\"50\"> **Práctica 1: Probabilidad y Estadística- PED** <img src=\"https://cdn-icons-png.flaticon.com/512/2857/2857376.png\"  width=\"50\" height=\"50\">\n"
      ],
      "metadata": {
        "id": "zt1tSFYpppS2"
      }
    },
    {
      "cell_type": "markdown",
      "source": [
        "**Importante:** Hacer una copia en su drive antes de comenzar.\n",
        "\n"
      ],
      "metadata": {
        "id": "OJGdcyVbm23H"
      }
    },
    {
      "cell_type": "markdown",
      "source": [
        "\n",
        "#Ejercicio 1\n",
        "\n",
        "\n",
        "De los 39 alumnos de una clase, 16 escogieron francés y 27 inglés. Nueve\n",
        "alumnos eligieron ambos, y el resto no escogió ninguno de ellos. Si se elige al\n",
        "azar un alumno de dicha clase, halla las siguientes probabilidades.\n",
        "\n",
        "1. Escogió francés.\n",
        "2. Escogió inglés.\n",
        "3. Escogió ambos idiomas."
      ],
      "metadata": {
        "id": "MovA6zJjyfL2"
      }
    },
    {
      "cell_type": "markdown",
      "source": [
        "#Ejercicio 2\n",
        "\n",
        "\n",
        "¿Cual es la probabilidad de que salga el numero 3 al tirar un dado?\n",
        "\n"
      ],
      "metadata": {
        "id": "FZttXti79Je3"
      }
    },
    {
      "cell_type": "code",
      "source": [],
      "metadata": {
        "id": "Vnj5PMyExCE9"
      },
      "execution_count": null,
      "outputs": []
    },
    {
      "cell_type": "markdown",
      "source": [
        "\n",
        "\n",
        "El siguiente código simula la tirada de un dado:\n",
        "\n",
        "```\n",
        "import random\n",
        "\n",
        "# devuelve un entero aleatorio entre 1 y 6\n",
        "dado = random.randint(1,6) \n",
        "```\n",
        "\n",
        "\n"
      ],
      "metadata": {
        "id": "-Vr7k1oLy_qu"
      }
    },
    {
      "cell_type": "markdown",
      "source": [
        "\n",
        "Dado el codigo anterior, crear una función que simule n cantidad de tiradas de un dado.\n",
        "\n",
        "```\n",
        "def tirar_dado(n):\n",
        "    \n",
        "```\n"
      ],
      "metadata": {
        "id": "mWrqU1za0a-x"
      }
    },
    {
      "cell_type": "code",
      "source": [
        "#Por ejemplo:\n",
        "#tirar_dado(3) me devuelve una lista [ 3 , 4 ,5] que corresponde a las 3 tiradas de un dado\n",
        "\n",
        "##Frecuencia \n",
        "#[ 3 , 4 ,5]   --> frecuencia absoluta de 3 es 1\n",
        "#[ 3 , 4 ,5]   --> frecuencia relativa 1/3\n",
        "\n",
        "##Frecuencia \n",
        "#[ 3 , 4, 1, 2 , 4 , 3 , 6, 2, 1, 3 ]   --> frecuencia absoluta de 3 es 3\n",
        "#[ 3 , 4, 1, 2 , 4 , 3 , 6, 2, 1, 3 ]   --> frecuencia relativa de 3 es 3/10"
      ],
      "metadata": {
        "id": "VYHQLe_p0oSZ"
      },
      "execution_count": null,
      "outputs": []
    },
    {
      "cell_type": "markdown",
      "source": [
        "*  Simular 10 tiradas y calcular la frecuencia absoluta de que salga el numero 3\n",
        "*  Simular 100 tiradas y calcular la frecuencia absoluta de que salga el numero 3\n",
        "*  Simular 1000 tiradas y calcular la frecuencia absoluta de que salga el numero 3"
      ],
      "metadata": {
        "id": "PeSLneEVrDDt"
      }
    },
    {
      "cell_type": "code",
      "source": [
        "import random\n",
        "\n",
        "\n",
        "def tirar_dado(n):\n",
        "  list_result = []\n",
        "  for i in range(0, n, 1):\n",
        "    dado = random.randint(1,6)\n",
        "    list_result.append(dado)\n",
        "  return list_result\n",
        "\n",
        "\n",
        "def obtener_frecuencia_de_3(list_dado, n):\n",
        "  list_dado = tirar_dado(n)\n",
        "  cont = 0\n",
        "  for i in list_dado:\n",
        "    if i == 3:\n",
        "      cont = cont + 1\n",
        "  print(f'La frecuencia absoluta de 3 en {n} tiradas es {cont}')\n",
        "\n",
        "\n",
        "list_dado_10=[]\n",
        "obtener_frecuencia_de_3(list_dado_10, 10)\n",
        "\n",
        "list_dado_100 = []\n",
        "obtener_frecuencia_de_3(list_dado_100, 100)\n",
        "\n",
        "list_dado_1000 = []\n",
        "obtener_frecuencia_de_3(list_dado_1000, 1000)"
      ],
      "metadata": {
        "id": "C3hLsqkOBFQy",
        "colab": {
          "base_uri": "https://localhost:8080/"
        },
        "outputId": "683c41a8-445d-4812-faa1-9d01dd7a6e0a"
      },
      "execution_count": null,
      "outputs": [
        {
          "output_type": "stream",
          "name": "stdout",
          "text": [
            "La frecuencia absoluta de 3 en 10 tiradas es 1\n",
            "La frecuencia absoluta de 3 en 100 tiradas es 21\n",
            "La frecuencia absoluta de 3 en 1000 tiradas es 183\n"
          ]
        }
      ]
    },
    {
      "cell_type": "markdown",
      "source": [
        "#Ejercicio 3\n",
        "\n",
        "Dadas las siguientes situaciones que se presentan a continuacion. \n",
        "\n",
        "\n",
        "*   Determinar la variable e identificar su tipo.\n",
        "*   Calcular los estadisticos de resumen.\n",
        "*   Realizar la tabla de frecuencia (frecuencia absoluta, relativa, porcentual y acumulada)\n",
        "\n",
        "\n"
      ],
      "metadata": {
        "id": "DWlIh5CZCjVe"
      }
    },
    {
      "cell_type": "markdown",
      "source": [
        "\n",
        "\n",
        "1. Un estudio realizado a 20 alumnos para determinar su grupo sanguíneo ha dado el siguiente resultado:\n",
        "\n",
        "'0', '0', '0', 'A', 'A', 'B', '0', 'AB', '0', 'B', 'B', 'A', '0', 'A', 'B', '0', 'A', '0', '0', 'A'"
      ],
      "metadata": {
        "id": "UfBnwGxdHGaf"
      }
    },
    {
      "cell_type": "code",
      "source": [
        "# Cualitativa\n",
        "import statistics\n",
        "\n",
        "alumnos = ['0', '0', '0', 'A', 'A', 'B', '0', 'AB', '0', 'B', 'B', 'A', '0', 'A', 'B', '0', 'A', '0', '0', 'A']\n",
        "\n",
        "len(alumnos)\n",
        "\n",
        "statistics.mode(alumnos)"
      ],
      "metadata": {
        "id": "qCfVajD9Hb0q",
        "colab": {
          "base_uri": "https://localhost:8080/",
          "height": 35
        },
        "outputId": "7ab515aa-cc96-4f6a-b038-291c4555e20c"
      },
      "execution_count": 1,
      "outputs": [
        {
          "output_type": "execute_result",
          "data": {
            "text/plain": [
              "'0'"
            ],
            "application/vnd.google.colaboratory.intrinsic+json": {
              "type": "string"
            }
          },
          "metadata": {},
          "execution_count": 1
        }
      ]
    },
    {
      "cell_type": "markdown",
      "source": [
        "\n",
        "\n",
        "2. Se registran las faltas en un curso de  un Colegio durante 20 dias.\n",
        "\n",
        "1, 0, 1, 2, 1, 2, 2, 0, 2, 0, 1, 0, 1, 1, 2, 3, 0, 2, 1, 0 \n",
        "\n",
        "\t\n",
        "\n"
      ],
      "metadata": {
        "id": "IbNNrcMdx1m9"
      }
    },
    {
      "cell_type": "code",
      "source": [
        "# Cuantitativa\n",
        "faltas = [1, 0, 1, 2, 1, 2, 2, 0, 2, 0, 1, 0, 1, 1, 2, 3, 0, 2, 1, 0]\n",
        "faltas.sort()\n",
        "\n",
        "print(faltas)\n",
        "\n",
        "print(f'Media {statistics.mean(faltas)}')\n",
        "print(f'Mediana {statistics.median(faltas)}')\n",
        "print(f'Desviacion {statistics.stdev(faltas)}')\n",
        "print(f'Varianza {statistics.variance(faltas)}')\n",
        "\n",
        "faltas_a = list(set(faltas))\n",
        "dic_frecuencia_absoluta = {}\n",
        "dic_frecuencia_relativa = {}\n",
        "dic_frecuencia_porcentual = {}\n",
        "dic_frecuencia_acumulada = {}\n",
        "dia = 0\n",
        "acum = 0\n",
        "\n",
        "for f in faltas_a:\n",
        "  dic_frecuencia_absoluta[dia] = faltas.count(f)\n",
        "  dic_frecuencia_relativa[dia] = faltas.count(f)/len(faltas)\n",
        "  dic_frecuencia_porcentual[dia] = faltas.count(f)/len(faltas)*100\n",
        "  acum = acum + faltas.count(f)\n",
        "  dic_frecuencia_acumulada[dia] = acum\n",
        "  dia = dia + 1\n",
        "\n",
        "print(dic_frecuencia_absoluta)\n",
        "print(dic_frecuencia_relativa)\n",
        "print(dic_frecuencia_porcentual)\n",
        "print(dic_frecuencia_acumulada)\n"
      ],
      "metadata": {
        "id": "gJaWYIri9rLv",
        "colab": {
          "base_uri": "https://localhost:8080/"
        },
        "outputId": "07b7d653-f1ce-48c9-ee4e-9e1e9d6e85cd"
      },
      "execution_count": 34,
      "outputs": [
        {
          "output_type": "stream",
          "name": "stdout",
          "text": [
            "[0, 0, 0, 0, 0, 0, 1, 1, 1, 1, 1, 1, 1, 2, 2, 2, 2, 2, 2, 3]\n",
            "Media 1.1\n",
            "Mediana 1.0\n",
            "Desviacion 0.9119095061289915\n",
            "Varianza 0.8315789473684211\n",
            "{0: 6, 1: 7, 2: 6, 3: 1}\n",
            "{0: 0.3, 1: 0.35, 2: 0.3, 3: 0.05}\n",
            "{0: 30.0, 1: 35.0, 2: 30.0, 3: 5.0}\n",
            "{0: 6, 1: 13, 2: 19, 3: 20}\n"
          ]
        }
      ]
    },
    {
      "cell_type": "markdown",
      "source": [
        "\n",
        "##¿Que ocurre si agregamos un dato mas?\n",
        "\n",
        "Ahora agregamos un dato mas que se corresponde al dia 21. El dia 21 hubo 32 faltas. ¿Que pasa?\n"
      ],
      "metadata": {
        "id": "-qadR3O9-ECE"
      }
    },
    {
      "cell_type": "code",
      "source": [
        "faltas = [1, 0, 1, 2, 1, 2, 2, 0, 2, 0, 1, 0, 1, 1, 2, 3, 0, 2, 1, 0, 32]\n",
        "faltas.sort\n",
        "\n",
        "print(f'Media {statistics.mean(faltas)}')\n",
        "print(f'Mediana {statistics.median(faltas)}')\n",
        "print(f'Desviacion {statistics.stdev(faltas)}')\n",
        "print(f'Varianza {statistics.variance(faltas)}')\n",
        "\n",
        "faltas_a = list(set(faltas))\n",
        "list_frecuencia_absoluta = []\n",
        "list_frecuencia_relativa = []\n",
        "list_frecuencia_porcentual = []\n",
        "list_frecuencia_acumulada = []\n",
        "acum = 0\n",
        "\n",
        "for f in faltas_a:\n",
        "  list_frecuencia_absoluta.append(faltas.count(f))\n",
        "  list_frecuencia_relativa.append(faltas.count(f)/len(faltas))\n",
        "  list_frecuencia_porcentual.append(faltas.count(f)/len(faltas)*100)\n",
        "  acum = acum + faltas.count(f)\n",
        "  list_frecuencia_acumulada.append(acum)\n",
        "\n",
        "dic_frecuencia_absoluta = dict(zip(faltas_a, list_frecuencia_absoluta))\n",
        "dic_frecuencia_relativa = dict(zip(faltas_a, list_frecuencia_relativa))\n",
        "dic_frecuencia_porcentual = dict(zip(faltas_a, list_frecuencia_porcentual))\n",
        "dic_frecuencia_acumulada = dict(zip(faltas_a, list_frecuencia_acumulada))\n",
        "\n",
        "print(dic_frecuencia_absoluta)\n",
        "print(dic_frecuencia_relativa)\n",
        "print(dic_frecuencia_porcentual)\n",
        "print(dic_frecuencia_acumulada)"
      ],
      "metadata": {
        "id": "tIG4nywl--QO",
        "colab": {
          "base_uri": "https://localhost:8080/"
        },
        "outputId": "3bc8b576-5e31-451e-e80a-236723af2f64"
      },
      "execution_count": 33,
      "outputs": [
        {
          "output_type": "stream",
          "name": "stdout",
          "text": [
            "Media 2.5714285714285716\n",
            "Mediana 1\n",
            "Desviacion 6.801260387394593\n",
            "Varianza 46.25714285714285\n",
            "{0: 6, 1: 7, 2: 6, 3: 1, 32: 1}\n",
            "{0: 0.2857142857142857, 1: 0.3333333333333333, 2: 0.2857142857142857, 3: 0.047619047619047616, 32: 0.047619047619047616}\n",
            "{0: 28.57142857142857, 1: 33.33333333333333, 2: 28.57142857142857, 3: 4.761904761904762, 32: 4.761904761904762}\n",
            "{0: 6, 1: 13, 2: 19, 3: 20, 32: 21}\n"
          ]
        }
      ]
    },
    {
      "cell_type": "markdown",
      "source": [
        "#Ejercicio 4\n",
        "La dueña de un departamento de alquiler temporario lleva un registro de la cantidad de noches que se alojan sus últimos 12 invitados: 7, 5, 2, 7, 7, 1, 14, 2, 1, 14, 7, 3.\n",
        "\n",
        "Decidir cuál de las siguientes afirmaciones es verdadera.\n",
        "\n",
        "* El desvío es igual a 20,33.\n",
        "* La varianza es igual a 20,33.\n",
        "* El desvío es igual a 4,51.\n",
        "* La varianza es igual a 4,51.\n",
        "* Ninguna de las demás opciones.\n",
        "\n",
        "Construir la tabla de frecuencia absoluta.\n",
        " "
      ],
      "metadata": {
        "id": "Ld1EQ7-mzD5R"
      }
    },
    {
      "cell_type": "code",
      "source": [
        "#su codigo\n",
        "\n",
        "invitados = [7, 5, 2, 7, 7, 1, 14, 2, 1, 14, 7, 3]\n",
        "\n",
        "print(f'Desvio {statistics.stdev(invitados): 2.3f}')\n",
        "print(f'Varianza {statistics.variance(invitados): 2.3f} \\n')\n",
        "\n",
        "invitados_a = list(set(invitados))\n",
        "list_frecuencia_absoluta = []\n",
        "list_frecuencia_relativa = []\n",
        "list_frecuencia_porcentual = []\n",
        "list_frecuencia_acumulada = []\n",
        "acum = 0\n",
        "\n",
        "for inv in invitados_a:\n",
        "  list_frecuencia_absoluta.append(invitados.count(inv))\n",
        "  list_frecuencia_relativa.append(invitados.count(inv)/len(invitados))\n",
        "  list_frecuencia_porcentual.append(invitados.count(inv)/len(invitados)*100)\n",
        "  acum = acum + invitados.count(inv)\n",
        "  list_frecuencia_acumulada.append(acum)\n",
        "\n",
        "dic_frecuencia_absoluta = dict(zip(invitados_a, list_frecuencia_absoluta))\n",
        "dic_frecuencia_relativa = dict(zip(invitados_a, list_frecuencia_relativa))\n",
        "dic_frecuencia_porcentual = dict(zip(invitados_a, list_frecuencia_porcentual))\n",
        "dic_frecuencia_acumulada = dict(zip(invitados_a, list_frecuencia_acumulada))\n",
        "\n",
        "print(dic_frecuencia_absoluta)\n",
        "print(dic_frecuencia_relativa)\n",
        "print(dic_frecuencia_porcentual)\n",
        "print(dic_frecuencia_acumulada)"
      ],
      "metadata": {
        "id": "LX2JhbN6zF18",
        "colab": {
          "base_uri": "https://localhost:8080/"
        },
        "outputId": "afd96c5e-4428-4656-c896-b336a28116db"
      },
      "execution_count": 46,
      "outputs": [
        {
          "output_type": "stream",
          "name": "stdout",
          "text": [
            "Desvio  4.509\n",
            "Varianza  20.333 \n",
            "\n",
            "{1: 2, 2: 2, 3: 1, 5: 1, 7: 4, 14: 2}\n",
            "{1: 0.16666666666666666, 2: 0.16666666666666666, 3: 0.08333333333333333, 5: 0.08333333333333333, 7: 0.3333333333333333, 14: 0.16666666666666666}\n",
            "{1: 16.666666666666664, 2: 16.666666666666664, 3: 8.333333333333332, 5: 8.333333333333332, 7: 33.33333333333333, 14: 16.666666666666664}\n",
            "{1: 2, 2: 4, 3: 5, 5: 6, 7: 10, 14: 12}\n"
          ]
        }
      ]
    },
    {
      "cell_type": "markdown",
      "source": [
        "#Ejercicio 5\n",
        "\n",
        "A continuación, se presenta la distribución de frecuencias de la cantidad de hijos de veinte parejas:\n",
        "\n",
        "\n",
        "|Cantidad de Hijos\t|Frecuencia absoluta|\n",
        "|-------------------|-------------------|\n",
        "|0\t|4|\n",
        "|1\t|5|\n",
        "|2\t|6|\n",
        "|3\t|3|\n",
        "|4\t|2|\n",
        "|Total\t|20|\n",
        "\n",
        "\n",
        "Decidir que afirmación es correcta:\n",
        "\n",
        "1.  La mediana es igual a 2 y la media es igual a 1, 7.\n",
        "2. La mediana es igual a 1 y la media es igual a 1, 7.\n",
        "3. La mediana es igual a 2 y la media es igual a 3, 8.\n",
        "4.  La mediana es igual a 1, 7 y la media es igual a 1.\n",
        "5. Ninguna de las demás opciones\n",
        "\n"
      ],
      "metadata": {
        "id": "8-zMHWmFnjwa"
      }
    },
    {
      "cell_type": "code",
      "execution_count": 52,
      "metadata": {
        "id": "liOTo8MDxJ8v",
        "colab": {
          "base_uri": "https://localhost:8080/"
        },
        "outputId": "f45f67cd-4070-498b-8953-1d54762ebd55"
      },
      "outputs": [
        {
          "output_type": "stream",
          "name": "stdout",
          "text": [
            "[0, 0, 0, 0, 1, 1, 1, 1, 1, 2, 2, 2, 2, 2, 2, 3, 3, 3, 4, 4]\n",
            "Media  1.700\n",
            "Mediana  2.000 \n",
            "\n",
            "El uno es el correcto\n"
          ]
        }
      ],
      "source": [
        "#su codigo\n",
        "\n",
        "def llenar_lista(lista, val, n):\n",
        "  for i in range(0, n, 1):\n",
        "    lista.append(val)\n",
        "\n",
        "hijos = []\n",
        "\n",
        "llenar_lista(hijos, 0, 4)\n",
        "llenar_lista(hijos, 1, 5)\n",
        "llenar_lista(hijos, 2, 6)\n",
        "llenar_lista(hijos, 3, 3)\n",
        "llenar_lista(hijos, 4, 2)\n",
        "\n",
        "print(hijos)\n",
        "hijos.sort()\n",
        "\n",
        "print(f'Media {statistics.mean(hijos): 2.3f}')\n",
        "print(f'Mediana {statistics.median(hijos): 2.3f} \\n')\n",
        "print('El uno es el correcto')"
      ]
    }
  ]
}